{
 "cells": [
  {
   "cell_type": "markdown",
   "metadata": {},
   "source": [
    "# ゼロから始める簡単NNP"
   ]
  },
  {
   "cell_type": "markdown",
   "metadata": {},
   "source": [
    "## NNPとは？？\n",
    "Neural Network Potentialの略です。原子構造の情報を受け取って、エネルギーの値を予測する、ニューラルネットワークベースの機械学習モデルです。第一原理計算での構造とエネルギーの関係を再現するように、第一原理計算結果を使って学習させる仕組みを使っています。\n",
    "\n",
    "この最も単純なケースを試してみましょう。今回扱うのは、結晶Siです。分子動力学法のトラジェクトリーを使って、様々な温度での熱ゆらぎが加わっていたり、密度が異なった状態での1250パターンの構造とエネルギーの情報を集めてあるので、それを学習データにします。"
   ]
  },
  {
   "cell_type": "markdown",
   "metadata": {},
   "source": [
    "## 対称性関数の計算結果のロード\n",
    "構造とエネルギーの関係を学ばせるにあたって、まず構造をニューラルネットワーク的に扱いやすいデータに変換する必要があります。\n",
    "その方法の一つが対称性関数です。\n",
    "\n",
    "対称性関数の説明や計算は別のファイルにまとめているので、そちらを見てください。\n",
    "https://github.com/eminamitani/sample_NNP/blob/main/make_desc.ipynb\n",
    "\n",
    "今回は時間短縮のため保存しておいたデータを使います。"
   ]
  },
  {
   "cell_type": "code",
   "execution_count": 19,
   "metadata": {},
   "outputs": [],
   "source": [
    "import numpy as np\n",
    "desc=np.load('desc.npy')\n",
    "label=np.load('label.npy')"
   ]
  },
  {
   "cell_type": "code",
   "execution_count": 20,
   "metadata": {},
   "outputs": [
    {
     "data": {
      "text/plain": [
       "(1250, 64, 11)"
      ]
     },
     "execution_count": 20,
     "metadata": {},
     "output_type": "execute_result"
    }
   ],
   "source": [
    "desc.shape"
   ]
  },
  {
   "cell_type": "markdown",
   "metadata": {},
   "source": [
    "データがどんな形か確認してみましょう。descは計算された対称性関数の11の値（最初の値は、G0と表記されるシンプルな動径分布に対応します）を保持していて、labelは系の原子あたりの平均エネルギーの情報を持っています。(全エネルギーそのままだと値が大きすぎるので)"
   ]
  },
  {
   "cell_type": "code",
   "execution_count": 21,
   "metadata": {},
   "outputs": [
    {
     "data": {
      "text/plain": [
       "(array([13.571609  ,  9.172703  ,  6.4423614 ,  3.4930756 ,  1.3537661 ,\n",
       "         0.35307807,  0.03834928,  0.7360559 ,  0.43611127,  0.28210217,\n",
       "         0.05149077], dtype=float32),\n",
       " -5.8122244)"
      ]
     },
     "execution_count": 21,
     "metadata": {},
     "output_type": "execute_result"
    }
   ],
   "source": [
    "desc[0,0,:], label[0]"
   ]
  },
  {
   "cell_type": "code",
   "execution_count": 22,
   "metadata": {},
   "outputs": [
    {
     "data": {
      "text/plain": [
       "(array([14.427327  ,  9.910984  ,  7.078461  ,  3.9639223 ,  1.6263943 ,\n",
       "         0.4749474 ,  0.06694016,  1.0451641 ,  0.593504  ,  0.4443306 ,\n",
       "         0.08542389], dtype=float32),\n",
       " -5.812823)"
      ]
     },
     "execution_count": 22,
     "metadata": {},
     "output_type": "execute_result"
    }
   ],
   "source": [
    "desc[1,0,:], label[1]"
   ]
  },
  {
   "cell_type": "markdown",
   "metadata": {},
   "source": [
    "対称性関数の値にもそれなりにばらつきがありそうです。"
   ]
  },
  {
   "cell_type": "markdown",
   "metadata": {},
   "source": [
    "ニューラルネットワークの実装では配列の形を勘違いしてミスをすることが多いので確認しておきます"
   ]
  },
  {
   "cell_type": "code",
   "execution_count": 23,
   "metadata": {},
   "outputs": [
    {
     "data": {
      "text/plain": [
       "((1250, 64, 11), (1250,))"
      ]
     },
     "execution_count": 23,
     "metadata": {},
     "output_type": "execute_result"
    }
   ],
   "source": [
    "desc.shape, label.shape"
   ]
  },
  {
   "cell_type": "markdown",
   "metadata": {},
   "source": [
    "本当はデータを正規化したほうが良いのですが、ひとまず単純に処理してみましょう"
   ]
  },
  {
   "cell_type": "markdown",
   "metadata": {},
   "source": [
    " ## ニューラルネットワークの定義\n",
    " 今回は、ニューラルネットワークというと真っ先にイメージされる多層パーセプトロンを使います。\n",
    "\n",
    " このモデルでは、11の対称性関数の値を受け取って、それをノード数20の隠れ層に渡し、最終的に一つの出力を得る形になっています。\n",
    " この出力は「原子ひとつあたりのエネルギー」に相当すると考えます。原子ひとつあたりのエネルギーが物理的にきちんと定義できるのかはさておき、それらを足し上げると、系の全エネルギーになるようにネットワーク中の重みやバイアスを最適化していきます。"
   ]
  },
  {
   "cell_type": "code",
   "execution_count": 24,
   "metadata": {},
   "outputs": [],
   "source": [
    "import torch.nn as nn\n",
    "import torch\n",
    "import torch.optim as optim\n",
    "\n",
    "class Net(nn.Module):\n",
    "    #n_sf : number of symmetry function\n",
    "    #two-hidden layer\n",
    "    #output is energy per atom\n",
    "    def __init__(self,n_sf,n_hidden):\n",
    "        super(Net,self).__init__()\n",
    "        self.fc1 = nn.Linear(n_sf, n_hidden)\n",
    "        self.a1  = nn.Tanh()\n",
    "        self.fc2 = nn.Linear(n_hidden, n_hidden)\n",
    "        self.a2  = nn.Tanh()\n",
    "        self.fc3 = nn.Linear(n_hidden,1)\n",
    "\n",
    "\n",
    "        #He initialization\n",
    "        nn.init.kaiming_normal_(self.fc1.weight)\n",
    "        nn.init.kaiming_normal_(self.fc2.weight)\n",
    "        nn.init.kaiming_normal_(self.fc3.weight)\n",
    "        self.results={}\n",
    "\n",
    "        self.layers=[self.fc1, self.a1, self.fc2, self.a2, self.fc3]\n",
    "\n",
    "    #tahn actination function\n",
    "    #two hidden layer\n",
    "    #evaluate eneergy & derivative in forward run\n",
    "    def forward(self,x):\n",
    "\n",
    "        for layer in self.layers:\n",
    "            x=layer(x)\n",
    "\n",
    "        return x"
   ]
  },
  {
   "cell_type": "markdown",
   "metadata": {},
   "source": [
    "## 学習データとテストデータの分割\n",
    "機械学習では過学習（使ったデータにはよく合うが、それ以外のデータにはうまく対応できない）がつきものなので、汎化性能を調べるために、学習データとテストデータの分割を行います。今回は8割を学習データ、2割をテストデータにします。"
   ]
  },
  {
   "cell_type": "code",
   "execution_count": 25,
   "metadata": {},
   "outputs": [],
   "source": [
    "from sklearn.model_selection import train_test_split\n",
    "X_train, X_test, y_train, y_test = train_test_split(desc, label, test_size=0.2)"
   ]
  },
  {
   "cell_type": "markdown",
   "metadata": {},
   "source": [
    "pytorchはテンソルを入力として受け取り、出力もテンソルにすることができます。上記の`Net`クラスで実装されているモデルはベクトルを受け取ることを前提にかかれていますが、それが積み上がってテンソルになった入力に対しても柔軟に処理することができます。イメージ的に分かりにくいので、実際にやってみましょう。"
   ]
  },
  {
   "cell_type": "code",
   "execution_count": 26,
   "metadata": {},
   "outputs": [
    {
     "data": {
      "text/plain": [
       "torch.Size([1000, 64, 1])"
      ]
     },
     "execution_count": 26,
     "metadata": {},
     "output_type": "execute_result"
    }
   ],
   "source": [
    "#データ処理の概要確認\n",
    "#テンソルとしてデータを一気に流し込み、原子数の次元で和を取る\n",
    "nacsf=11\n",
    "model=Net(n_sf=nacsf,n_hidden=20)\n",
    "test_out=model(torch.tensor(X_train))\n",
    "test_out.shape"
   ]
  },
  {
   "cell_type": "markdown",
   "metadata": {},
   "source": [
    "1000データがあって、それぞれに（64,1）の配列が格納されている形式になっています。この64というのは原子数で、実際の正解データと比較するのは、64原子分の総和をとった値です。それは以下のようにして計算できます。"
   ]
  },
  {
   "cell_type": "code",
   "execution_count": 27,
   "metadata": {},
   "outputs": [
    {
     "data": {
      "text/plain": [
       "torch.Size([1000, 1])"
      ]
     },
     "execution_count": 27,
     "metadata": {},
     "output_type": "execute_result"
    }
   ],
   "source": [
    "p_energy=torch.sum(test_out, dim=1)\n",
    "p_energy.shape\n"
   ]
  },
  {
   "cell_type": "markdown",
   "metadata": {},
   "source": [
    "## データローダーの定義\n",
    "効率よく学習させるためにはミニバッチ学習が欠かせません。機械学習では、モデルの出力と実際の値の差異のデータを使ってモデル内部のパラメータを更新していくのですが、各データで毎回更新を行っていると時間がかかりますし、学習もなかなか安定しません。なので、データをある程度の塊に分割して、その塊を処理するたびにパラメーター更新をするというような方法を取ります。これがミニバッチ学習です。このとき、毎回同じ塊を取ってくると、学習に偏りが生じてしまうので、塊の取り方も毎回ランダムにするほうが望ましいです。ただそれを実装するのは結構面倒です。pytorchやtensorflowではこういった動作をサポートするためのデータローダーの一式が備わっています。というわけで、そのためのデータローダーを組みます。"
   ]
  },
  {
   "cell_type": "markdown",
   "metadata": {},
   "source": [
    "torchのtensor型に変換します。y_train, y_testはモデルの出力と整合させるために、unsqueeze(1)で余分な次元をつけています"
   ]
  },
  {
   "cell_type": "code",
   "execution_count": 28,
   "metadata": {},
   "outputs": [],
   "source": [
    "X_train=torch.tensor(X_train)\n",
    "X_test=torch.tensor(X_test)\n",
    "y_train=torch.tensor(y_train).unsqueeze(1)\n",
    "y_test=torch.tensor(y_test).unsqueeze(1)"
   ]
  },
  {
   "cell_type": "code",
   "execution_count": 29,
   "metadata": {},
   "outputs": [],
   "source": [
    "#define dataset\n",
    "train_dset=[(data,label) for data, label in zip(X_train, y_train)]\n",
    "test_dset=[(data,label) for data, label in zip(X_test, y_test)]\n",
    "nbatch=100\n",
    "train_loader =torch.utils.data.DataLoader(train_dset, batch_size=nbatch, shuffle=True)\n",
    "test_loader=torch.utils.data.DataLoader(test_dset, batch_size=nbatch, shuffle=True)"
   ]
  },
  {
   "cell_type": "markdown",
   "metadata": {},
   "source": [
    "この`train_loader`や`test_loader`はイテレータというものになっています。（要はforループで順番にアクセスできます。）シャッフル済みのデータが取り出せる便利な仕組みと思っておくと良いと思います。"
   ]
  },
  {
   "cell_type": "markdown",
   "metadata": {},
   "source": [
    "## 学習部分のコード"
   ]
  },
  {
   "cell_type": "markdown",
   "metadata": {},
   "source": [
    "ログ取得"
   ]
  },
  {
   "cell_type": "code",
   "execution_count": 30,
   "metadata": {},
   "outputs": [],
   "source": [
    "from torch.utils.tensorboard import SummaryWriter\n",
    "import os\n",
    "import datetime\n",
    "dir=os.path.join(\"./logs\", datetime.datetime.now().strftime('%Y-%m-%d %H:%M:%S'))\n",
    "writer = SummaryWriter(log_dir=dir)"
   ]
  },
  {
   "cell_type": "markdown",
   "metadata": {},
   "source": [
    "学習＆テスト結果のループ部分"
   ]
  },
  {
   "cell_type": "code",
   "execution_count": 31,
   "metadata": {},
   "outputs": [],
   "source": [
    "\n",
    "def training_loop(n_epochs, optimizer, model, loss_fn, train_loader, test_loader,scheduler):\n",
    "    for epoch in range(1, n_epochs+1):\n",
    "        loss_t=0.0\n",
    "        loss_v=0.0\n",
    "\n",
    "        #ミニバッチ学習のために順番にアクセスしています\n",
    "        for train, train_labels in train_loader:\n",
    "            tmp=model(train)\n",
    "            p_train=torch.sum(tmp, dim=1)/64.0\n",
    "\n",
    "            loss_train=loss_fn(p_train, train_labels)\n",
    "\n",
    "            #パラメータ更新には勾配(微分)をつかうのですが、ほっておくと結果が累積してしまうので、\n",
    "            #微分を計算する前に初期化します\n",
    "            optimizer.zero_grad()\n",
    "            #自動微分で勾配を計算します\n",
    "            loss_train.backward()\n",
    "\n",
    "            #パラメータを更新します\n",
    "            optimizer.step()\n",
    "            loss_t+=loss_train.item()\n",
    "        \n",
    "        #学習率を徐々に下げるスケジューラーというのを使っているので、\n",
    "        #エポックごとに更新していきます\n",
    "        scheduler.step()\n",
    "\n",
    "        #validation\n",
    "        with torch.no_grad():\n",
    "            for val, val_labels in test_loader:\n",
    "                p_val= torch.sum(model(val),dim=1)/64.0\n",
    "                loss_val=loss_fn(p_val, val_labels)\n",
    "                loss_v+=loss_val.item()\n",
    "        \n",
    "        writer.add_scalar(\"loss_train\", loss_t/len(train_loader), epoch)  \n",
    "        writer.add_scalar(\"loss_val\", loss_v/len(test_loader), epoch)  \n",
    "        \n",
    "        if epoch == 1 or epoch %100 ==0:\n",
    "            print('Epoch %d, Training Loss %f' %(epoch, loss_t/len(train_loader)))\n",
    "            print('\\t Validation Loss %f' %(loss_v/len(test_loader)))\n",
    "    \n",
    "    writer.close()\n",
    "    return "
   ]
  },
  {
   "cell_type": "markdown",
   "metadata": {},
   "source": [
    "パラメータの更新はAdamで行います"
   ]
  },
  {
   "cell_type": "code",
   "execution_count": 32,
   "metadata": {},
   "outputs": [],
   "source": [
    "optimizer=optim.Adam(model.parameters(), lr=0.001)\n",
    "from torch.optim.lr_scheduler import MultiStepLR\n",
    "scheduler = MultiStepLR(optimizer, milestones=[2000,3000],gamma=0.5)"
   ]
  },
  {
   "cell_type": "code",
   "execution_count": 33,
   "metadata": {},
   "outputs": [
    {
     "name": "stdout",
     "output_type": "stream",
     "text": [
      "Epoch 1, Training Loss 14.700322\n",
      "\t Validation Loss 11.717577\n",
      "Epoch 100, Training Loss 0.003608\n",
      "\t Validation Loss 0.003616\n",
      "Epoch 200, Training Loss 0.003558\n",
      "\t Validation Loss 0.003767\n",
      "Epoch 300, Training Loss 0.003522\n",
      "\t Validation Loss 0.003544\n",
      "Epoch 400, Training Loss 0.003470\n",
      "\t Validation Loss 0.003480\n",
      "Epoch 500, Training Loss 0.003371\n",
      "\t Validation Loss 0.003378\n",
      "Epoch 600, Training Loss 0.003075\n",
      "\t Validation Loss 0.003251\n",
      "Epoch 700, Training Loss 0.002863\n",
      "\t Validation Loss 0.002871\n",
      "Epoch 800, Training Loss 0.002501\n",
      "\t Validation Loss 0.002655\n",
      "Epoch 900, Training Loss 0.002154\n",
      "\t Validation Loss 0.002143\n",
      "Epoch 1000, Training Loss 0.001219\n",
      "\t Validation Loss 0.001269\n",
      "Epoch 1100, Training Loss 0.000615\n",
      "\t Validation Loss 0.000639\n",
      "Epoch 1200, Training Loss 0.000381\n",
      "\t Validation Loss 0.000363\n",
      "Epoch 1300, Training Loss 0.000405\n",
      "\t Validation Loss 0.000304\n",
      "Epoch 1400, Training Loss 0.000325\n",
      "\t Validation Loss 0.000301\n",
      "Epoch 1500, Training Loss 0.000419\n",
      "\t Validation Loss 0.000360\n",
      "Epoch 1600, Training Loss 0.000314\n",
      "\t Validation Loss 0.000294\n",
      "Epoch 1700, Training Loss 0.000316\n",
      "\t Validation Loss 0.000295\n",
      "Epoch 1800, Training Loss 0.000502\n",
      "\t Validation Loss 0.000271\n",
      "Epoch 1900, Training Loss 0.000281\n",
      "\t Validation Loss 0.000267\n",
      "Epoch 2000, Training Loss 0.000266\n",
      "\t Validation Loss 0.000239\n",
      "Epoch 2100, Training Loss 0.000246\n",
      "\t Validation Loss 0.000329\n",
      "Epoch 2200, Training Loss 0.000257\n",
      "\t Validation Loss 0.000259\n",
      "Epoch 2300, Training Loss 0.000235\n",
      "\t Validation Loss 0.000243\n",
      "Epoch 2400, Training Loss 0.000218\n",
      "\t Validation Loss 0.000233\n",
      "Epoch 2500, Training Loss 0.000235\n",
      "\t Validation Loss 0.000261\n",
      "Epoch 2600, Training Loss 0.000227\n",
      "\t Validation Loss 0.000224\n",
      "Epoch 2700, Training Loss 0.000201\n",
      "\t Validation Loss 0.000254\n",
      "Epoch 2800, Training Loss 0.000210\n",
      "\t Validation Loss 0.000235\n",
      "Epoch 2900, Training Loss 0.000267\n",
      "\t Validation Loss 0.000360\n",
      "Epoch 3000, Training Loss 0.000216\n",
      "\t Validation Loss 0.000282\n",
      "Epoch 3100, Training Loss 0.000200\n",
      "\t Validation Loss 0.000262\n",
      "Epoch 3200, Training Loss 0.000196\n",
      "\t Validation Loss 0.000198\n",
      "Epoch 3300, Training Loss 0.000196\n",
      "\t Validation Loss 0.000218\n",
      "Epoch 3400, Training Loss 0.000206\n",
      "\t Validation Loss 0.000220\n",
      "Epoch 3500, Training Loss 0.000222\n",
      "\t Validation Loss 0.000221\n",
      "Epoch 3600, Training Loss 0.000198\n",
      "\t Validation Loss 0.000210\n",
      "Epoch 3700, Training Loss 0.000204\n",
      "\t Validation Loss 0.000234\n",
      "Epoch 3800, Training Loss 0.000228\n",
      "\t Validation Loss 0.000212\n",
      "Epoch 3900, Training Loss 0.000189\n",
      "\t Validation Loss 0.000196\n",
      "Epoch 4000, Training Loss 0.000187\n",
      "\t Validation Loss 0.000204\n",
      "Epoch 4100, Training Loss 0.000201\n",
      "\t Validation Loss 0.000202\n",
      "Epoch 4200, Training Loss 0.000189\n",
      "\t Validation Loss 0.000208\n",
      "Epoch 4300, Training Loss 0.000192\n",
      "\t Validation Loss 0.000214\n",
      "Epoch 4400, Training Loss 0.000225\n",
      "\t Validation Loss 0.000218\n",
      "Epoch 4500, Training Loss 0.000230\n",
      "\t Validation Loss 0.000291\n",
      "Epoch 4600, Training Loss 0.000201\n",
      "\t Validation Loss 0.000226\n",
      "Epoch 4700, Training Loss 0.000186\n",
      "\t Validation Loss 0.000207\n",
      "Epoch 4800, Training Loss 0.000186\n",
      "\t Validation Loss 0.000204\n",
      "Epoch 4900, Training Loss 0.000186\n",
      "\t Validation Loss 0.000231\n",
      "Epoch 5000, Training Loss 0.000190\n",
      "\t Validation Loss 0.000273\n"
     ]
    }
   ],
   "source": [
    "training_loop(n_epochs=5000, optimizer=optimizer,model=model,\n",
    "             loss_fn=nn.MSELoss(), train_loader=train_loader, test_loader=test_loader,scheduler=scheduler)"
   ]
  },
  {
   "cell_type": "markdown",
   "metadata": {},
   "source": [
    "正解と予測結果をプロットしてみましょう"
   ]
  },
  {
   "cell_type": "code",
   "execution_count": 36,
   "metadata": {},
   "outputs": [
    {
     "data": {
      "image/png": "[encoded data removed]",
      "text/plain": [
       "<Figure size 432x288 with 1 Axes>"
      ]
     },
     "metadata": {
      "needs_background": "light"
     },
     "output_type": "display_data"
    }
   ],
   "source": [
    "import matplotlib.pyplot as plt\n",
    "import matplotlib.lines as mlines\n",
    "model.eval()\n",
    "with torch.no_grad():\n",
    "    predict=torch.sum(model(X_test),dim=1)/64.0\n",
    "    train=torch.sum(model(X_train),dim=1)/64.0\n",
    "    plt.gca().set_aspect('equal')\n",
    "    min=-6\n",
    "    max=-5.6\n",
    "    plt.xlim((min,max))\n",
    "    plt.ylim((min,max))\n",
    "    plt.plot([min,max],[min,max],color='gray')\n",
    "    \n",
    "    plt.scatter(y_train,train,c='red',s=2,alpha=0.5,label='train')\n",
    "    plt.scatter(y_test,predict,c='blue',s=2,alpha=0.5,label='test')\n",
    "    plt.legend()"
   ]
  },
  {
   "cell_type": "code",
   "execution_count": 37,
   "metadata": {},
   "outputs": [
    {
     "name": "stdout",
     "output_type": "stream",
     "text": [
      "RMSE=0.016769 eV/atom\n"
     ]
    }
   ],
   "source": [
    "diff=(y_test-predict.to('cpu').detach().numpy()).numpy()\n",
    "RMSE=np.sqrt(np.mean(np.abs(diff)*np.abs(diff)))\n",
    "print('RMSE={0:f} eV/atom'.format(RMSE))"
   ]
  },
  {
   "cell_type": "markdown",
   "metadata": {},
   "source": [
    "そこまで外れてはいませんが、もうちょい精度が欲しいという感じですね。\n",
    "精度を上げるには、一つにはデータ数を増やすこと、もう一つは対称性関数のハイパーパラメータを調整したり数を増やすこと、あと、学習でのハイパーパラメータを調整することが挙げられます。\n"
   ]
  }
 ],
 "metadata": {
  "interpreter": {
   "hash": "cb7935f57bbdef563505bbe55a73b776f504e7646c87521f5e2f2142831702de"
  },
  "kernelspec": {
   "display_name": "Python 3.9.5 ('env_3.9')",
   "language": "python",
   "name": "python3"
  },
  "language_info": {
   "codemirror_mode": {
    "name": "ipython",
    "version": 3
   },
   "file_extension": ".py",
   "mimetype": "text/x-python",
   "name": "python",
   "nbconvert_exporter": "python",
   "pygments_lexer": "ipython3",
   "version": "3.9.5"
  },
  "orig_nbformat": 4
 },
 "nbformat": 4,
 "nbformat_minor": 2
}
