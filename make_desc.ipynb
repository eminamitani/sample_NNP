{
 "cells": [
  {
   "cell_type": "markdown",
   "metadata": {},
   "source": [
    "# 対称性関数の計算"
   ]
  },
  {
   "cell_type": "markdown",
   "metadata": {},
   "source": [
    "構造とエネルギーの関係を学ばせるにあたって、まず構造をニューラルネットワーク的に扱いやすいデータに変換する必要があります。\n",
    "その方法の一つが対称性関数です。詳細は参考文献を見てもらうとして、ざっくりした説明としては、動径分布関数や角度の分布関数を工夫したようなものと考えておくと良いでしょう。\n",
    "\n",
    "対称性関数はそこまでややこしい式ではないので、自力実装も可能ですが、近傍原子の判定などを効率よく書くのが難しいです。昔、私がpythonで自力で書いたものはとんでもなく遅かったので、最適化されているライブラリを使います。それが[DScribe](https://singroup.github.io/dscribe/latest/index.html)です。（最適化されているとはいえ、周期境界条件を入れると結構時間がかかるので、計算結果は保存しておくほうが効率が良いです）"
   ]
  },
  {
   "cell_type": "code",
   "execution_count": 1,
   "metadata": {},
   "outputs": [],
   "source": [
    "from dscribe.descriptors import ACSF\n",
    "\n",
    "nacsf=11\n",
    "# Setting up the ACSF descriptor\n",
    "acsf = ACSF(\n",
    "    species=[\"Si\"],\n",
    "    rcut=7.0,\n",
    "    g2_params=[[0.025,0.0], [0.05,0.0], [0.1,0.0],[0.2,0.0], [0.4,0.0],[0.8,0.0]],\n",
    "    g4_params=[[0.1, 1.0, 1], [0.1, 4.0, 1], [0.1, 1.0, -1], [0.1, 4.0, -1]],\n",
    "    periodic=True\n",
    ")"
   ]
  },
  {
   "cell_type": "markdown",
   "metadata": {},
   "source": [
    "用意してある計算結果を読み込んで処理します。xyzという第一原理計算やMDの業界でよく使う形式で、座標やエネルギーの値をまとめてあります。これをASEというパッケージの機能を使って処理しています。"
   ]
  },
  {
   "cell_type": "code",
   "execution_count": 2,
   "metadata": {},
   "outputs": [],
   "source": [
    "from ase.io import iread\n",
    "xyzfile='sample50.xyz'\n",
    "\n",
    "import numpy as np\n",
    "\n",
    "atoms=iread(xyzfile,index=':', format='extxyz')\n",
    "nsample=1250\n",
    "desc=np.zeros((nsample,64,nacsf))\n",
    "label=np.zeros(nsample)\n"
   ]
  },
  {
   "cell_type": "code",
   "execution_count": 3,
   "metadata": {},
   "outputs": [],
   "source": [
    "for ia, a in enumerate(atoms):\n",
    "\n",
    "\n",
    "    all=np.arange(len(a.positions))\n",
    "\n",
    "    acsf_Si = acsf.create(a)\n",
    "    desc[ia,:,:]=acsf_Si\n",
    "    label[ia]=a.get_total_energy()/64.0"
   ]
  },
  {
   "cell_type": "markdown",
   "metadata": {},
   "source": [
    "ニューラルネットワークのフレームワークであるpytorchが扱いやすいように単精度に変換します。（機械学習フレームワークはだいたい単精度を使うことが多いです）"
   ]
  },
  {
   "cell_type": "code",
   "execution_count": 4,
   "metadata": {},
   "outputs": [],
   "source": [
    "desc=np.float32(desc)\n",
    "label=np.float32(label)"
   ]
  },
  {
   "cell_type": "markdown",
   "metadata": {},
   "source": [
    "使い回すために、numpyの機能でファイルに保存しておきます"
   ]
  },
  {
   "cell_type": "code",
   "execution_count": 5,
   "metadata": {},
   "outputs": [],
   "source": [
    "np.save('desc',desc)\n",
    "np.save('label',label)"
   ]
  }
 ],
 "metadata": {
  "interpreter": {
   "hash": "cb7935f57bbdef563505bbe55a73b776f504e7646c87521f5e2f2142831702de"
  },
  "kernelspec": {
   "display_name": "Python 3.9.5 ('env_3.9')",
   "language": "python",
   "name": "python3"
  },
  "language_info": {
   "codemirror_mode": {
    "name": "ipython",
    "version": 3
   },
   "file_extension": ".py",
   "mimetype": "text/x-python",
   "name": "python",
   "nbconvert_exporter": "python",
   "pygments_lexer": "ipython3",
   "version": "3.9.5"
  },
  "orig_nbformat": 4
 },
 "nbformat": 4,
 "nbformat_minor": 2
}
