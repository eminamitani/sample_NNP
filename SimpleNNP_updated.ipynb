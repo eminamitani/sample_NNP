{
 "cells": [
  {
   "cell_type": "markdown",
   "metadata": {},
   "source": [
    "# ゼロから始める簡単NNP"
   ]
  },
  {
   "cell_type": "markdown",
   "metadata": {},
   "source": [
    "## NNPとは？？\n",
    "Neural Network Potentialの略です。原子構造の情報を受け取って、エネルギーの値を予測する、ニューラルネットワークベースの機械学習モデルです。第一原理計算での構造とエネルギーの関係を再現するように、第一原理計算結果を使って学習させる仕組みを使っています。\n",
    "\n",
    "この最も単純なケースを試してみましょう。今回扱うのは、結晶Siです。分子動力学法のトラジェクトリーを使って、様々な温度での熱ゆらぎが加わっていたり、密度が異なった状態での1250パターンの構造とエネルギーの情報を集めてあるので、それを学習データにします。"
   ]
  },
  {
   "cell_type": "markdown",
   "metadata": {},
   "source": [
    "## 対称性関数の計算\n",
    "構造とエネルギーの関係を学ばせるにあたって、まず構造をニューラルネットワーク的に扱いやすいデータに変換する必要があります。\n",
    "その方法の一つが対称性関数です。詳細はRef[1]を見てもらうとして、ざっくりした説明としては、動径分布関数や角度の分布関数を工夫したようなものと考えておくと良いでしょう。"
   ]
  },
  {
   "cell_type": "markdown",
   "metadata": {},
   "source": [
    "対称性関数はそこまでややこしい式ではないので、自力実装も可能ですが、近傍原子の判定などを効率よく書くのが難しいです。昔、私がpythonで自力で書いたものはとんでもなく遅かったので、最適化されているライブラリを使います。それが[DScribe](https://singroup.github.io/dscribe/latest/index.html)です。（最適化されているとはいえ、周期境界条件を入れると結構時間がかかるので、計算結果は保存しておくほうが効率が良いです）"
   ]
  },
  {
   "cell_type": "code",
   "execution_count": 72,
   "metadata": {},
   "outputs": [],
   "source": [
    "from dscribe.descriptors import ACSF\n",
    "\n",
    "nacsf=11\n",
    "# Setting up the ACSF descriptor\n",
    "acsf = ACSF(\n",
    "    species=[\"Si\"],\n",
    "    rcut=7.0,\n",
    "    g2_params=[[0.025,0.0], [0.05,0.0], [0.1,0.0],[0.2,0.0], [0.4,0.0],[0.8,0.0]],\n",
    "    g4_params=[[0.1, 1.0, 1], [0.1, 4.0, 1], [0.1, 1.0, -1], [0.1, 4.0, -1]],\n",
    "    periodic=True\n",
    ")\n",
    "\n"
   ]
  },
  {
   "cell_type": "markdown",
   "metadata": {},
   "source": [
    "用意してある計算結果を読み込んで処理します。xyzという第一原理計算やMDの業界でよく使う形式で、座標やエネルギーの値をまとめてあります。これをASEというパッケージの機能を使って処理しています。ここでは3分間クッキングではないですが、計算しておいた結果をロードしてます。"
   ]
  },
  {
   "cell_type": "code",
   "execution_count": 73,
   "metadata": {},
   "outputs": [],
   "source": [
    "from ase.io import iread\n",
    "xyzfile='sample50.xyz'\n",
    "\n",
    "import numpy as np\n",
    "\n",
    "atoms=iread(xyzfile,index=':', format='extxyz')\n",
    "nsample=1250\n",
    "\n",
    "\n"
   ]
  },
  {
   "cell_type": "markdown",
   "metadata": {},
   "source": [
    "本来は以下のように計算するのですが、時間短縮のため保存しておいたデータを使います。"
   ]
  },
  {
   "cell_type": "code",
   "execution_count": 74,
   "metadata": {},
   "outputs": [
    {
     "data": {
      "text/plain": [
       "'\\nfor ia, a in enumerate(atoms):\\n\\n\\n    all=np.arange(len(a.positions))\\n\\n    acsf_Si = acsf.create(a)\\n    desc[ia,:,:]=acsf_Si\\n    label[ia]=a.get_total_energy()/64.0\\n'"
      ]
     },
     "execution_count": 74,
     "metadata": {},
     "output_type": "execute_result"
    }
   ],
   "source": [
    "'''\n",
    "for ia, a in enumerate(atoms):\n",
    "\n",
    "\n",
    "    all=np.arange(len(a.positions))\n",
    "\n",
    "    acsf_Si = acsf.create(a)\n",
    "    desc[ia,:,:]=acsf_Si\n",
    "    label[ia]=a.get_total_energy()/64.0\n",
    "'''"
   ]
  },
  {
   "cell_type": "code",
   "execution_count": 75,
   "metadata": {},
   "outputs": [],
   "source": [
    "desc=np.load('desc.npy')\n",
    "label=np.load('label.npy')"
   ]
  },
  {
   "cell_type": "code",
   "execution_count": 76,
   "metadata": {},
   "outputs": [
    {
     "data": {
      "text/plain": [
       "(1250, 64, 11)"
      ]
     },
     "execution_count": 76,
     "metadata": {},
     "output_type": "execute_result"
    }
   ],
   "source": [
    "desc.shape"
   ]
  },
  {
   "cell_type": "markdown",
   "metadata": {},
   "source": [
    "データがどんな形か確認してみましょう。descは計算された対称性関数の11の値（最初の値は、G0と表記されるシンプルな動径分布に対応します）を保持していて、labelは系の原子あたりの平均エネルギーの情報を持っています。(全エネルギーそのままだと値が大きすぎるので)"
   ]
  },
  {
   "cell_type": "code",
   "execution_count": 77,
   "metadata": {},
   "outputs": [
    {
     "data": {
      "text/plain": [
       "(array([13.571609  ,  9.172703  ,  6.4423614 ,  3.4930756 ,  1.3537661 ,\n",
       "         0.35307807,  0.03834928,  0.7360559 ,  0.43611127,  0.28210217,\n",
       "         0.05149077], dtype=float32),\n",
       " -5.8122244)"
      ]
     },
     "execution_count": 77,
     "metadata": {},
     "output_type": "execute_result"
    }
   ],
   "source": [
    "desc[0,0,:], label[0]"
   ]
  },
  {
   "cell_type": "code",
   "execution_count": 78,
   "metadata": {},
   "outputs": [
    {
     "data": {
      "text/plain": [
       "(array([14.427327  ,  9.910984  ,  7.078461  ,  3.9639223 ,  1.6263943 ,\n",
       "         0.4749474 ,  0.06694016,  1.0451641 ,  0.593504  ,  0.4443306 ,\n",
       "         0.08542389], dtype=float32),\n",
       " -5.812823)"
      ]
     },
     "execution_count": 78,
     "metadata": {},
     "output_type": "execute_result"
    }
   ],
   "source": [
    "desc[1,0,:], label[1]"
   ]
  },
  {
   "cell_type": "markdown",
   "metadata": {},
   "source": [
    "対称性関数の値にもそれなりにばらつきがありそうです。"
   ]
  },
  {
   "cell_type": "markdown",
   "metadata": {},
   "source": [
    "ニューラルネットワークの実装では配列の形を勘違いしてミスをすることが多いので確認しておきます"
   ]
  },
  {
   "cell_type": "code",
   "execution_count": 79,
   "metadata": {},
   "outputs": [
    {
     "data": {
      "text/plain": [
       "((1250, 64, 11), (1250,))"
      ]
     },
     "execution_count": 79,
     "metadata": {},
     "output_type": "execute_result"
    }
   ],
   "source": [
    "desc.shape, label.shape"
   ]
  },
  {
   "cell_type": "markdown",
   "metadata": {},
   "source": [
    "本当はデータを正規化したほうが良いのですが、ひとまず単純に処理してみましょう"
   ]
  },
  {
   "cell_type": "markdown",
   "metadata": {},
   "source": [
    " ## ニューラルネットワークの定義\n",
    " 今回は、ニューラルネットワークというと真っ先にイメージされる多層パーセプトロンを使います。\n",
    "\n",
    " このモデルでは、11の対称性関数の値を受け取って、それをノード数20の隠れ層に渡し、最終的に一つの出力を得る形になっています。\n",
    " この出力は「原子ひとつあたりのエネルギー」に相当すると考えます。原子ひとつあたりのエネルギーがきちんと定義できるのかはさておき、それらを足し上げると、系の全エネルギーになるようにネットワーク中の重みやバイアスを最適化していきます。"
   ]
  },
  {
   "cell_type": "code",
   "execution_count": 80,
   "metadata": {},
   "outputs": [],
   "source": [
    "import torch.nn as nn\n",
    "import torch\n",
    "import torch.optim as optim\n",
    "\n",
    "class Net(nn.Module):\n",
    "    #n_sf : number of symmetry function\n",
    "    #two-hidden layer\n",
    "    #output is energy per atom\n",
    "    def __init__(self,n_sf,n_hidden):\n",
    "        super(Net,self).__init__()\n",
    "        self.fc1 = nn.Linear(n_sf, n_hidden)\n",
    "        self.a1  = nn.Tanh()\n",
    "        self.fc2 = nn.Linear(n_hidden, n_hidden)\n",
    "        self.a2  = nn.Tanh()\n",
    "        self.fc3 = nn.Linear(n_hidden,1)\n",
    "\n",
    "        #for debug backprop\n",
    "        self.fc1mask=[]\n",
    "        self.fc2mask=[]\n",
    "\n",
    "        #He initialization\n",
    "        nn.init.kaiming_normal_(self.fc1.weight)\n",
    "        nn.init.kaiming_normal_(self.fc2.weight)\n",
    "        nn.init.kaiming_normal_(self.fc3.weight)\n",
    "        self.results={}\n",
    "\n",
    "        self.layers=[self.fc1, self.a1, self.fc2, self.a2, self.fc3]\n",
    "\n",
    "    #relu actination function\n",
    "    #two hidden layer\n",
    "    #evaluate eneergy & derivative in forward run\n",
    "    def forward(self,x):\n",
    "\n",
    "        for layer in self.layers:\n",
    "            x=layer(x)\n",
    "\n",
    "        return x"
   ]
  },
  {
   "cell_type": "markdown",
   "metadata": {},
   "source": [
    "## 学習データとテストデータの分割\n",
    "機械学習では過学習（使ったデータにはよく合うが、それ以外のデータにはうまく対応できない）がつきものなので、汎化性能を調べるために、学習データとテストデータの分割を行います。今回は8割を学習データ、2割をテストデータにします。"
   ]
  },
  {
   "cell_type": "code",
   "execution_count": 81,
   "metadata": {},
   "outputs": [],
   "source": [
    "from sklearn.model_selection import train_test_split\n",
    "X_train, X_test, y_train, y_test = train_test_split(desc, label, test_size=0.2)"
   ]
  },
  {
   "cell_type": "markdown",
   "metadata": {},
   "source": [
    "pytorchはテンソルを入力として受け取り、出力もテンソルにすることができます。上記のseq_modelはベクトルを受け取ることを前提にかかれていますが、それが積み上がってテンソルになった入力に対しても柔軟に処理することができます。イメージ的に分かりにくいので、実際にやってみましょう。"
   ]
  },
  {
   "cell_type": "code",
   "execution_count": 82,
   "metadata": {},
   "outputs": [
    {
     "data": {
      "text/plain": [
       "torch.Size([1000, 64, 1])"
      ]
     },
     "execution_count": 82,
     "metadata": {},
     "output_type": "execute_result"
    }
   ],
   "source": [
    "#データ処理の概要確認\n",
    "#テンソルとしてデータを一気に流し込み、原子数の次元で和を取る\n",
    "model=Net(n_sf=nacsf,n_hidden=20)\n",
    "test_out=model(torch.tensor(X_train))\n",
    "test_out.shape"
   ]
  },
  {
   "cell_type": "markdown",
   "metadata": {},
   "source": [
    "1000データがあって、それぞれに（64,1）の配列が格納されている形式になっています。この64というのは原子数で、実際の正解データと比較するのは、64原子分の総和をとった値です。それは以下のようにして計算できます。"
   ]
  },
  {
   "cell_type": "code",
   "execution_count": 83,
   "metadata": {},
   "outputs": [
    {
     "data": {
      "text/plain": [
       "torch.Size([1000, 1])"
      ]
     },
     "execution_count": 83,
     "metadata": {},
     "output_type": "execute_result"
    }
   ],
   "source": [
    "p_energy=torch.sum(test_out, dim=1)\n",
    "p_energy.shape\n"
   ]
  },
  {
   "cell_type": "markdown",
   "metadata": {},
   "source": [
    "## データローダーの定義\n",
    "効率よく学習させるためにはミニバッチ学習が欠かせません。というわけで、そのためのデータローダーを組みます"
   ]
  },
  {
   "cell_type": "markdown",
   "metadata": {},
   "source": [
    "torchのtensor型に変換します。y_train, y_testはモデルの出力と整合させるために、unsqueeze(1)で余分な次元をつけています"
   ]
  },
  {
   "cell_type": "code",
   "execution_count": 84,
   "metadata": {},
   "outputs": [],
   "source": [
    "X_train=torch.tensor(X_train)\n",
    "X_test=torch.tensor(X_test)\n",
    "y_train=torch.tensor(y_train).unsqueeze(1)\n",
    "y_test=torch.tensor(y_test).unsqueeze(1)"
   ]
  },
  {
   "cell_type": "code",
   "execution_count": 85,
   "metadata": {},
   "outputs": [],
   "source": [
    "#define dataset\n",
    "train_dset=[(data,label) for data, label in zip(X_train, y_train)]\n",
    "test_dset=[(data,label) for data, label in zip(X_test, y_test)]\n",
    "nbatch=100\n",
    "train_loader =torch.utils.data.DataLoader(train_dset, batch_size=nbatch, shuffle=True)\n",
    "test_loader=torch.utils.data.DataLoader(test_dset, batch_size=nbatch, shuffle=True)"
   ]
  },
  {
   "cell_type": "markdown",
   "metadata": {},
   "source": [
    "## 学習部分のコード"
   ]
  },
  {
   "cell_type": "code",
   "execution_count": 86,
   "metadata": {},
   "outputs": [],
   "source": [
    "\n",
    "def training_loop(n_epochs, optimizer, model, loss_fn, train_loader, test_loader):\n",
    "    for epoch in range(1, n_epochs+1):\n",
    "        loss_t=0.0\n",
    "        loss_v=0.0\n",
    "        for train, train_labels in train_loader:\n",
    "            tmp=model(train)\n",
    "            p_train=torch.sum(tmp, dim=1)/64.0\n",
    "\n",
    "            loss_train=loss_fn(p_train, train_labels)\n",
    "            optimizer.zero_grad()\n",
    "            loss_train.backward()\n",
    "            optimizer.step()\n",
    "            loss_t+=loss_train.item()\n",
    "\n",
    "        #validation\n",
    "        with torch.no_grad():\n",
    "            for val, val_labels in test_loader:\n",
    "                p_val= torch.sum(model(val),dim=1)/64.0\n",
    "                loss_val=loss_fn(p_val, val_labels)\n",
    "                loss_v+=loss_val.item()\n",
    "        \n",
    "        \n",
    "        if epoch == 1 or epoch %100 ==0:\n",
    "            print('Epoch %d, Training Loss %f' %(epoch, loss_t/len(train_loader)))\n",
    "            print('\\t Validation Loss %f' %(loss_v/len(test_loader)))\n",
    "    return "
   ]
  },
  {
   "cell_type": "code",
   "execution_count": 87,
   "metadata": {},
   "outputs": [],
   "source": [
    "optimizer=optim.Adam(model.parameters(), lr=0.001)"
   ]
  },
  {
   "cell_type": "code",
   "execution_count": 88,
   "metadata": {},
   "outputs": [
    {
     "name": "stdout",
     "output_type": "stream",
     "text": [
      "Epoch 1, Training Loss 39.377288\n",
      "\t Validation Loss 35.901733\n",
      "Epoch 100, Training Loss 0.003742\n",
      "\t Validation Loss 0.003762\n",
      "Epoch 200, Training Loss 0.003716\n",
      "\t Validation Loss 0.003632\n",
      "Epoch 300, Training Loss 0.003707\n",
      "\t Validation Loss 0.003584\n",
      "Epoch 400, Training Loss 0.003694\n",
      "\t Validation Loss 0.003567\n",
      "Epoch 500, Training Loss 0.003685\n",
      "\t Validation Loss 0.003635\n",
      "Epoch 600, Training Loss 0.003665\n",
      "\t Validation Loss 0.003830\n",
      "Epoch 700, Training Loss 0.003667\n",
      "\t Validation Loss 0.003599\n",
      "Epoch 800, Training Loss 0.003596\n",
      "\t Validation Loss 0.003817\n",
      "Epoch 900, Training Loss 0.003226\n",
      "\t Validation Loss 0.003132\n",
      "Epoch 1000, Training Loss 0.002778\n",
      "\t Validation Loss 0.002504\n",
      "Epoch 1100, Training Loss 0.002345\n",
      "\t Validation Loss 0.002539\n",
      "Epoch 1200, Training Loss 0.002033\n",
      "\t Validation Loss 0.001811\n",
      "Epoch 1300, Training Loss 0.001624\n",
      "\t Validation Loss 0.001566\n",
      "Epoch 1400, Training Loss 0.001574\n",
      "\t Validation Loss 0.002066\n",
      "Epoch 1500, Training Loss 0.000912\n",
      "\t Validation Loss 0.000731\n",
      "Epoch 1600, Training Loss 0.000816\n",
      "\t Validation Loss 0.000530\n",
      "Epoch 1700, Training Loss 0.000459\n",
      "\t Validation Loss 0.000453\n",
      "Epoch 1800, Training Loss 0.000359\n",
      "\t Validation Loss 0.000287\n",
      "Epoch 1900, Training Loss 0.000336\n",
      "\t Validation Loss 0.000346\n",
      "Epoch 2000, Training Loss 0.000303\n",
      "\t Validation Loss 0.000236\n",
      "Epoch 2100, Training Loss 0.000299\n",
      "\t Validation Loss 0.000230\n",
      "Epoch 2200, Training Loss 0.000293\n",
      "\t Validation Loss 0.000299\n",
      "Epoch 2300, Training Loss 0.000263\n",
      "\t Validation Loss 0.000197\n",
      "Epoch 2400, Training Loss 0.000216\n",
      "\t Validation Loss 0.000197\n",
      "Epoch 2500, Training Loss 0.000223\n",
      "\t Validation Loss 0.000190\n",
      "Epoch 2600, Training Loss 0.000332\n",
      "\t Validation Loss 0.000219\n",
      "Epoch 2700, Training Loss 0.000345\n",
      "\t Validation Loss 0.000288\n",
      "Epoch 2800, Training Loss 0.000305\n",
      "\t Validation Loss 0.000206\n",
      "Epoch 2900, Training Loss 0.000294\n",
      "\t Validation Loss 0.000238\n",
      "Epoch 3000, Training Loss 0.000398\n",
      "\t Validation Loss 0.000715\n",
      "Epoch 3100, Training Loss 0.000319\n",
      "\t Validation Loss 0.000208\n",
      "Epoch 3200, Training Loss 0.000232\n",
      "\t Validation Loss 0.000163\n",
      "Epoch 3300, Training Loss 0.000404\n",
      "\t Validation Loss 0.000308\n",
      "Epoch 3400, Training Loss 0.000396\n",
      "\t Validation Loss 0.000165\n",
      "Epoch 3500, Training Loss 0.000327\n",
      "\t Validation Loss 0.000176\n",
      "Epoch 3600, Training Loss 0.000213\n",
      "\t Validation Loss 0.000197\n",
      "Epoch 3700, Training Loss 0.000231\n",
      "\t Validation Loss 0.000504\n",
      "Epoch 3800, Training Loss 0.000176\n",
      "\t Validation Loss 0.000214\n",
      "Epoch 3900, Training Loss 0.000184\n",
      "\t Validation Loss 0.000165\n",
      "Epoch 4000, Training Loss 0.000193\n",
      "\t Validation Loss 0.000166\n",
      "Epoch 4100, Training Loss 0.000425\n",
      "\t Validation Loss 0.000323\n",
      "Epoch 4200, Training Loss 0.000203\n",
      "\t Validation Loss 0.000258\n",
      "Epoch 4300, Training Loss 0.000297\n",
      "\t Validation Loss 0.000213\n",
      "Epoch 4400, Training Loss 0.000267\n",
      "\t Validation Loss 0.000161\n",
      "Epoch 4500, Training Loss 0.000209\n",
      "\t Validation Loss 0.000170\n",
      "Epoch 4600, Training Loss 0.000230\n",
      "\t Validation Loss 0.000237\n",
      "Epoch 4700, Training Loss 0.000172\n",
      "\t Validation Loss 0.000161\n",
      "Epoch 4800, Training Loss 0.000160\n",
      "\t Validation Loss 0.000146\n",
      "Epoch 4900, Training Loss 0.000195\n",
      "\t Validation Loss 0.000196\n",
      "Epoch 5000, Training Loss 0.000310\n",
      "\t Validation Loss 0.000161\n"
     ]
    }
   ],
   "source": [
    "training_loop(n_epochs=5000, optimizer=optimizer,model=model,\n",
    "             loss_fn=nn.MSELoss(), train_loader=train_loader, test_loader=test_loader)"
   ]
  },
  {
   "cell_type": "markdown",
   "metadata": {},
   "source": [
    "正解と予測結果をプロットしてみましょう"
   ]
  },
  {
   "cell_type": "code",
   "execution_count": 89,
   "metadata": {},
   "outputs": [
    {
     "data": {
      "image/png": "[encoded data removed]",
      "text/plain": [
       "<Figure size 432x288 with 1 Axes>"
      ]
     },
     "metadata": {
      "needs_background": "light"
     },
     "output_type": "display_data"
    }
   ],
   "source": [
    "import matplotlib.pyplot as plt\n",
    "model.eval()\n",
    "with torch.no_grad():\n",
    "    predict=torch.sum(model(X_test),dim=1)/64.0\n",
    "    #plt.xlim((-6,-5.6))\n",
    "    #plt.ylim((-6,-5.6))\n",
    "    plt.scatter(y_test,predict)"
   ]
  }
 ],
 "metadata": {
  "interpreter": {
   "hash": "1224aa78933d76f3b87bf99e45c31cce45160fda9d38f1d681cad51c427d002b"
  },
  "kernelspec": {
   "display_name": "Python 3.9.7 64-bit ('dev_env')",
   "language": "python",
   "name": "python3"
  },
  "language_info": {
   "codemirror_mode": {
    "name": "ipython",
    "version": 3
   },
   "file_extension": ".py",
   "mimetype": "text/x-python",
   "name": "python",
   "nbconvert_exporter": "python",
   "pygments_lexer": "ipython3",
   "version": "3.9.7"
  },
  "orig_nbformat": 4
 },
 "nbformat": 4,
 "nbformat_minor": 2
}
