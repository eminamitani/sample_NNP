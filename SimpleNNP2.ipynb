{
 "cells": [
  {
   "cell_type": "markdown",
   "metadata": {},
   "source": [
    "# ゼロから始める簡単NNP (対称性関数のチューニング)"
   ]
  },
  {
   "cell_type": "markdown",
   "metadata": {},
   "source": [
    "## NNPとは？？\n",
    "Neural Network Potentialの略です。原子構造の情報を受け取って、エネルギーの値を予測する、ニューラルネットワークベースの機械学習モデルです。第一原理計算での構造とエネルギーの関係を再現するように、第一原理計算結果を使って学習させる仕組みを使っています。\n",
    "\n",
    "この最も単純なケースを試してみましょう。今回扱うのは、結晶Siです。分子動力学法のトラジェクトリーを使って、様々な温度での熱ゆらぎが加わっていたり、密度が異なった状態での1250パターンの構造とエネルギーの情報を集めてあるので、それを学習データにします。"
   ]
  },
  {
   "cell_type": "markdown",
   "metadata": {},
   "source": [
    "## 対称性関数の計算結果のロード\n",
    "構造とエネルギーの関係を学ばせるにあたって、まず構造をニューラルネットワーク的に扱いやすいデータに変換する必要があります。\n",
    "その方法の一つが対称性関数です。ここでは、対称性関数のパラメータをある程度調整した場合の計算結果を使います。\n",
    "\n",
    "対称性関数の説明や計算は別のファイルにまとめているので、そちらを見てください。\n",
    "https://github.com/eminamitani/sample_NNP/blob/main/make_desc_large.ipynb\n",
    "\n",
    "今回は時間短縮のため保存しておいたデータを使います。"
   ]
  },
  {
   "cell_type": "code",
   "execution_count": 1,
   "metadata": {},
   "outputs": [],
   "source": [
    "import numpy as np\n",
    "desc=np.load('desc_large2.npy')\n",
    "label=np.load('label_large2.npy')"
   ]
  },
  {
   "cell_type": "code",
   "execution_count": 2,
   "metadata": {},
   "outputs": [
    {
     "data": {
      "text/plain": [
       "(1250, 64, 27)"
      ]
     },
     "execution_count": 2,
     "metadata": {},
     "output_type": "execute_result"
    }
   ],
   "source": [
    "desc.shape"
   ]
  },
  {
   "cell_type": "markdown",
   "metadata": {},
   "source": [
    "データがどんな形か確認してみましょう。descは計算された対称性関数の11の値（最初の値は、G0と表記されるシンプルな動径分布に対応します）を保持していて、labelは系の原子あたりの平均エネルギーの情報を持っています。(全エネルギーそのままだと値が大きすぎるので)"
   ]
  },
  {
   "cell_type": "code",
   "execution_count": 3,
   "metadata": {},
   "outputs": [
    {
     "data": {
      "text/plain": [
       "(array([8.26244   , 6.5645013 , 6.8478737 , 7.095261  , 7.46383   ,\n",
       "        7.6411366 , 7.6528153 , 7.52056   , 3.758342  , 4.1961546 ,\n",
       "        4.607235  , 5.321424  , 5.817775  , 5.9414434 , 5.845667  ,\n",
       "        8.36925   , 6.6050043 , 4.6383796 , 3.104257  , 1.3400111 ,\n",
       "        0.42756554, 0.34005523, 0.2741888 , 0.20551518, 0.1318433 ,\n",
       "        0.06597685, 0.02572226], dtype=float32),\n",
       " -5.8122244)"
      ]
     },
     "execution_count": 3,
     "metadata": {},
     "output_type": "execute_result"
    }
   ],
   "source": [
    "desc[0,0,:], label[0]"
   ]
  },
  {
   "cell_type": "code",
   "execution_count": 4,
   "metadata": {},
   "outputs": [
    {
     "data": {
      "text/plain": [
       "(array([ 9.022465  ,  7.311376  ,  7.601747  ,  7.8504934 ,  8.204621  ,\n",
       "         8.345448  ,  8.331387  ,  8.135118  ,  4.291214  ,  4.750723  ,\n",
       "         5.1840878 ,  5.9365387 ,  6.427783  ,  6.518643  ,  6.290091  ,\n",
       "        10.702587  ,  8.349539  ,  5.7685575 ,  4.206671  ,  1.8536228 ,\n",
       "         0.6094486 ,  0.51270366,  0.40338242,  0.2943864 ,  0.22587003,\n",
       "         0.1165488 ,  0.04624842], dtype=float32),\n",
       " -5.812823)"
      ]
     },
     "execution_count": 4,
     "metadata": {},
     "output_type": "execute_result"
    }
   ],
   "source": [
    "desc[1,0,:], label[1]"
   ]
  },
  {
   "cell_type": "markdown",
   "metadata": {},
   "source": [
    "対称性関数の値にもそれなりにばらつきがありそうです。"
   ]
  },
  {
   "cell_type": "markdown",
   "metadata": {},
   "source": [
    "ニューラルネットワークの実装では配列の形を勘違いしてミスをすることが多いので確認しておきます"
   ]
  },
  {
   "cell_type": "code",
   "execution_count": 5,
   "metadata": {},
   "outputs": [
    {
     "data": {
      "text/plain": [
       "((1250, 64, 27), (1250,))"
      ]
     },
     "execution_count": 5,
     "metadata": {},
     "output_type": "execute_result"
    }
   ],
   "source": [
    "desc.shape, label.shape"
   ]
  },
  {
   "cell_type": "markdown",
   "metadata": {},
   "source": [
    "本当はデータを正規化したほうが良いのですが、ひとまず単純に処理してみましょう"
   ]
  },
  {
   "cell_type": "markdown",
   "metadata": {},
   "source": [
    " ## ニューラルネットワークの定義\n",
    " 今回は、ニューラルネットワークというと真っ先にイメージされる多層パーセプトロンを使います。\n",
    "\n",
    " このモデルでは、11の対称性関数の値を受け取って、それをノード数20の隠れ層に渡し、最終的に一つの出力を得る形になっています。\n",
    " この出力は「原子ひとつあたりのエネルギー」に相当すると考えます。原子ひとつあたりのエネルギーがきちんと定義できるのかはさておき、それらを足し上げると、系の全エネルギーになるようにネットワーク中の重みやバイアスを最適化していきます。"
   ]
  },
  {
   "cell_type": "code",
   "execution_count": 6,
   "metadata": {},
   "outputs": [],
   "source": [
    "import torch.nn as nn\n",
    "import torch\n",
    "import torch.optim as optim\n",
    "\n",
    "class Net(nn.Module):\n",
    "    #n_sf : number of symmetry function\n",
    "    #two-hidden layer\n",
    "    #output is energy per atom\n",
    "    def __init__(self,n_sf,n_hidden):\n",
    "        super(Net,self).__init__()\n",
    "        self.fc1 = nn.Linear(n_sf, n_hidden)\n",
    "        self.a1  = nn.Tanh()\n",
    "        self.fc2 = nn.Linear(n_hidden, n_hidden)\n",
    "        self.a2  = nn.Tanh()\n",
    "        self.fc3 = nn.Linear(n_hidden,1)\n",
    "\n",
    "        #for debug backprop\n",
    "        self.fc1mask=[]\n",
    "        self.fc2mask=[]\n",
    "\n",
    "        #He initialization\n",
    "        nn.init.kaiming_normal_(self.fc1.weight)\n",
    "        nn.init.kaiming_normal_(self.fc2.weight)\n",
    "        nn.init.kaiming_normal_(self.fc3.weight)\n",
    "        self.results={}\n",
    "\n",
    "        self.layers=[self.fc1, self.a1, self.fc2, self.a2, self.fc3]\n",
    "\n",
    "    #relu actination function\n",
    "    #two hidden layer\n",
    "    #evaluate eneergy & derivative in forward run\n",
    "    def forward(self,x):\n",
    "\n",
    "        for layer in self.layers:\n",
    "            x=layer(x)\n",
    "\n",
    "        return x"
   ]
  },
  {
   "cell_type": "markdown",
   "metadata": {},
   "source": [
    "## 学習データとテストデータの分割\n",
    "機械学習では過学習（使ったデータにはよく合うが、それ以外のデータにはうまく対応できない）がつきものなので、汎化性能を調べるために、学習データとテストデータの分割を行います。今回は8割を学習データ、2割をテストデータにします。"
   ]
  },
  {
   "cell_type": "code",
   "execution_count": 7,
   "metadata": {},
   "outputs": [],
   "source": [
    "from sklearn.model_selection import train_test_split\n",
    "X_train, X_test, y_train, y_test = train_test_split(desc, label, test_size=0.2)"
   ]
  },
  {
   "cell_type": "markdown",
   "metadata": {},
   "source": [
    "pytorchはテンソルを入力として受け取り、出力もテンソルにすることができます。上記の`Net`クラスで実装されているモデルはベクトルを受け取ることを前提にかかれていますが、それが積み上がってテンソルになった入力に対しても柔軟に処理することができます。イメージ的に分かりにくいので、実際にやってみましょう。"
   ]
  },
  {
   "cell_type": "code",
   "execution_count": 8,
   "metadata": {},
   "outputs": [
    {
     "data": {
      "text/plain": [
       "torch.Size([1000, 64, 1])"
      ]
     },
     "execution_count": 8,
     "metadata": {},
     "output_type": "execute_result"
    }
   ],
   "source": [
    "#データ処理の概要確認\n",
    "#テンソルとしてデータを一気に流し込み、原子数の次元で和を取る\n",
    "nacsf=33\n",
    "model=Net(n_sf=nacsf,n_hidden=100)\n",
    "test_out=model(torch.tensor(X_train))\n",
    "test_out.shape"
   ]
  },
  {
   "cell_type": "markdown",
   "metadata": {},
   "source": [
    "1000データがあって、それぞれに（64,1）の配列が格納されている形式になっています。この64というのは原子数で、実際の正解データと比較するのは、64原子分の総和をとった値です。それは以下のようにして計算できます。"
   ]
  },
  {
   "cell_type": "code",
   "execution_count": 9,
   "metadata": {},
   "outputs": [
    {
     "data": {
      "text/plain": [
       "torch.Size([1000, 1])"
      ]
     },
     "execution_count": 9,
     "metadata": {},
     "output_type": "execute_result"
    }
   ],
   "source": [
    "p_energy=torch.sum(test_out, dim=1)\n",
    "p_energy.shape\n"
   ]
  },
  {
   "cell_type": "code",
   "execution_count": 10,
   "metadata": {},
   "outputs": [],
   "source": [
    "device = torch.device('cuda' if torch.cuda.is_available() else 'cpu')\n",
    "model=model.to(device)"
   ]
  },
  {
   "cell_type": "markdown",
   "metadata": {},
   "source": [
    "## データローダーの定義\n",
    "効率よく学習させるためにはミニバッチ学習が欠かせません。というわけで、そのためのデータローダーを組みます"
   ]
  },
  {
   "cell_type": "markdown",
   "metadata": {},
   "source": [
    "torchのtensor型に変換します。y_train, y_testはモデルの出力と整合させるために、unsqueeze(1)で余分な次元をつけています"
   ]
  },
  {
   "cell_type": "code",
   "execution_count": 11,
   "metadata": {},
   "outputs": [],
   "source": [
    "X_train=torch.tensor(X_train)\n",
    "X_test=torch.tensor(X_test)\n",
    "y_train=torch.tensor(y_train).unsqueeze(1)\n",
    "y_test=torch.tensor(y_test).unsqueeze(1)"
   ]
  },
  {
   "cell_type": "code",
   "execution_count": 12,
   "metadata": {},
   "outputs": [],
   "source": [
    "#define dataset\n",
    "train_dset=[(data,label) for data, label in zip(X_train, y_train)]\n",
    "test_dset=[(data,label) for data, label in zip(X_test, y_test)]\n",
    "nbatch=100\n",
    "train_loader =torch.utils.data.DataLoader(train_dset, batch_size=nbatch, shuffle=True)\n",
    "test_loader=torch.utils.data.DataLoader(test_dset, batch_size=nbatch, shuffle=True)"
   ]
  },
  {
   "cell_type": "markdown",
   "metadata": {},
   "source": [
    "## 学習部分のコード"
   ]
  },
  {
   "cell_type": "markdown",
   "metadata": {},
   "source": [
    "ログ取得"
   ]
  },
  {
   "cell_type": "code",
   "execution_count": 13,
   "metadata": {},
   "outputs": [],
   "source": [
    "from torch.utils.tensorboard import SummaryWriter\n",
    "import os\n",
    "import datetime\n",
    "dir=os.path.join(\"./logs\", datetime.datetime.now().strftime('%Y-%m-%d %H:%M:%S'))\n",
    "writer = SummaryWriter(log_dir=dir)"
   ]
  },
  {
   "cell_type": "markdown",
   "metadata": {},
   "source": [
    "学習＆テスト結果のループ部分"
   ]
  },
  {
   "cell_type": "code",
   "execution_count": 14,
   "metadata": {},
   "outputs": [],
   "source": [
    "\n",
    "def training_loop(n_epochs, optimizer, model, loss_fn, train_loader, test_loader,scheduler,device):\n",
    "    for epoch in range(1, n_epochs+1):\n",
    "        loss_t=0.0\n",
    "        loss_v=0.0\n",
    "        for train, train_labels in train_loader:\n",
    "            train=train.to(device)\n",
    "            train_labels=train_labels.to(device)\n",
    "            tmp=model(train)\n",
    "            p_train=torch.sum(tmp, dim=1)/64.0\n",
    "\n",
    "            loss_train=loss_fn(p_train, train_labels)\n",
    "            optimizer.zero_grad()\n",
    "            loss_train.backward()\n",
    "            optimizer.step()\n",
    "            loss_t+=loss_train.item()\n",
    "        \n",
    "        scheduler.step()\n",
    "\n",
    "        #validation\n",
    "        with torch.no_grad():\n",
    "            for val, val_labels in test_loader:\n",
    "                val=val.to(device)\n",
    "                val_labels=val_labels.to(device)\n",
    "                p_val= torch.sum(model(val),dim=1)/64.0\n",
    "                loss_val=loss_fn(p_val, val_labels)\n",
    "                loss_v+=loss_val.item()\n",
    "        \n",
    "        writer.add_scalar(\"loss_train\", loss_t/len(train_loader), epoch)  \n",
    "        writer.add_scalar(\"loss_val\", loss_v/len(test_loader), epoch)  \n",
    "        \n",
    "        if epoch == 1 or epoch %100 ==0:\n",
    "            print('Epoch %d, Training Loss %f' %(epoch, loss_t/len(train_loader)))\n",
    "            print('\\t Validation Loss %f' %(loss_v/len(test_loader)))\n",
    "    \n",
    "    writer.close()\n",
    "    return "
   ]
  },
  {
   "cell_type": "markdown",
   "metadata": {},
   "source": [
    "パラメータの更新はAdamで行います"
   ]
  },
  {
   "cell_type": "code",
   "execution_count": 15,
   "metadata": {},
   "outputs": [],
   "source": [
    "optimizer=optim.Adam(model.parameters(), lr=0.001)\n",
    "from torch.optim.lr_scheduler import MultiStepLR\n",
    "scheduler = MultiStepLR(optimizer, milestones=[2000,4000,6000],gamma=0.5)"
   ]
  },
  {
   "cell_type": "code",
   "execution_count": 16,
   "metadata": {},
   "outputs": [
    {
     "name": "stdout",
     "output_type": "stream",
     "text": [
      "Epoch 1, Training Loss 22.127631\n",
      "\t Validation Loss 15.859093\n",
      "Epoch 100, Training Loss 0.003443\n",
      "\t Validation Loss 0.003754\n",
      "Epoch 200, Training Loss 0.003397\n",
      "\t Validation Loss 0.003672\n",
      "Epoch 300, Training Loss 0.003301\n",
      "\t Validation Loss 0.003540\n",
      "Epoch 400, Training Loss 0.003014\n",
      "\t Validation Loss 0.003180\n",
      "Epoch 500, Training Loss 0.001737\n",
      "\t Validation Loss 0.001955\n",
      "Epoch 600, Training Loss 0.000497\n",
      "\t Validation Loss 0.000916\n",
      "Epoch 700, Training Loss 0.000470\n",
      "\t Validation Loss 0.000396\n",
      "Epoch 800, Training Loss 0.000302\n",
      "\t Validation Loss 0.000352\n",
      "Epoch 900, Training Loss 0.000296\n",
      "\t Validation Loss 0.000524\n",
      "Epoch 1000, Training Loss 0.000290\n",
      "\t Validation Loss 0.000330\n",
      "Epoch 1100, Training Loss 0.000323\n",
      "\t Validation Loss 0.000384\n",
      "Epoch 1200, Training Loss 0.000364\n",
      "\t Validation Loss 0.000731\n",
      "Epoch 1300, Training Loss 0.000230\n",
      "\t Validation Loss 0.000463\n",
      "Epoch 1400, Training Loss 0.000380\n",
      "\t Validation Loss 0.000321\n",
      "Epoch 1500, Training Loss 0.000240\n",
      "\t Validation Loss 0.000432\n",
      "Epoch 1600, Training Loss 0.000236\n",
      "\t Validation Loss 0.000348\n",
      "Epoch 1700, Training Loss 0.000230\n",
      "\t Validation Loss 0.000609\n",
      "Epoch 1800, Training Loss 0.000271\n",
      "\t Validation Loss 0.000539\n",
      "Epoch 1900, Training Loss 0.000302\n",
      "\t Validation Loss 0.000313\n",
      "Epoch 2000, Training Loss 0.000236\n",
      "\t Validation Loss 0.000267\n",
      "Epoch 2100, Training Loss 0.000169\n",
      "\t Validation Loss 0.000230\n",
      "Epoch 2200, Training Loss 0.000160\n",
      "\t Validation Loss 0.000230\n",
      "Epoch 2300, Training Loss 0.000170\n",
      "\t Validation Loss 0.000213\n",
      "Epoch 2400, Training Loss 0.000151\n",
      "\t Validation Loss 0.000193\n",
      "Epoch 2500, Training Loss 0.000132\n",
      "\t Validation Loss 0.000188\n",
      "Epoch 2600, Training Loss 0.000133\n",
      "\t Validation Loss 0.000186\n",
      "Epoch 2700, Training Loss 0.000146\n",
      "\t Validation Loss 0.000194\n",
      "Epoch 2800, Training Loss 0.000167\n",
      "\t Validation Loss 0.000169\n",
      "Epoch 2900, Training Loss 0.000122\n",
      "\t Validation Loss 0.000174\n",
      "Epoch 3000, Training Loss 0.000119\n",
      "\t Validation Loss 0.000145\n",
      "Epoch 3100, Training Loss 0.000130\n",
      "\t Validation Loss 0.000183\n",
      "Epoch 3200, Training Loss 0.000124\n",
      "\t Validation Loss 0.000218\n",
      "Epoch 3300, Training Loss 0.000120\n",
      "\t Validation Loss 0.000155\n",
      "Epoch 3400, Training Loss 0.000110\n",
      "\t Validation Loss 0.000135\n",
      "Epoch 3500, Training Loss 0.000145\n",
      "\t Validation Loss 0.000186\n",
      "Epoch 3600, Training Loss 0.000152\n",
      "\t Validation Loss 0.000138\n",
      "Epoch 3700, Training Loss 0.000113\n",
      "\t Validation Loss 0.000139\n",
      "Epoch 3800, Training Loss 0.000108\n",
      "\t Validation Loss 0.000142\n",
      "Epoch 3900, Training Loss 0.000118\n",
      "\t Validation Loss 0.000123\n",
      "Epoch 4000, Training Loss 0.000129\n",
      "\t Validation Loss 0.000130\n",
      "Epoch 4100, Training Loss 0.000104\n",
      "\t Validation Loss 0.000141\n",
      "Epoch 4200, Training Loss 0.000108\n",
      "\t Validation Loss 0.000145\n",
      "Epoch 4300, Training Loss 0.000101\n",
      "\t Validation Loss 0.000123\n",
      "Epoch 4400, Training Loss 0.000107\n",
      "\t Validation Loss 0.000187\n",
      "Epoch 4500, Training Loss 0.000101\n",
      "\t Validation Loss 0.000118\n",
      "Epoch 4600, Training Loss 0.000097\n",
      "\t Validation Loss 0.000127\n",
      "Epoch 4700, Training Loss 0.000115\n",
      "\t Validation Loss 0.000158\n",
      "Epoch 4800, Training Loss 0.000115\n",
      "\t Validation Loss 0.000124\n",
      "Epoch 4900, Training Loss 0.000101\n",
      "\t Validation Loss 0.000122\n",
      "Epoch 5000, Training Loss 0.000099\n",
      "\t Validation Loss 0.000121\n",
      "Epoch 5100, Training Loss 0.000100\n",
      "\t Validation Loss 0.000122\n",
      "Epoch 5200, Training Loss 0.000105\n",
      "\t Validation Loss 0.000137\n",
      "Epoch 5300, Training Loss 0.000096\n",
      "\t Validation Loss 0.000126\n",
      "Epoch 5400, Training Loss 0.000107\n",
      "\t Validation Loss 0.000199\n",
      "Epoch 5500, Training Loss 0.000114\n",
      "\t Validation Loss 0.000124\n",
      "Epoch 5600, Training Loss 0.000099\n",
      "\t Validation Loss 0.000135\n",
      "Epoch 5700, Training Loss 0.000101\n",
      "\t Validation Loss 0.000137\n",
      "Epoch 5800, Training Loss 0.000108\n",
      "\t Validation Loss 0.000118\n",
      "Epoch 5900, Training Loss 0.000094\n",
      "\t Validation Loss 0.000125\n",
      "Epoch 6000, Training Loss 0.000107\n",
      "\t Validation Loss 0.000148\n",
      "Epoch 6100, Training Loss 0.000099\n",
      "\t Validation Loss 0.000121\n",
      "Epoch 6200, Training Loss 0.000099\n",
      "\t Validation Loss 0.000128\n",
      "Epoch 6300, Training Loss 0.000098\n",
      "\t Validation Loss 0.000136\n",
      "Epoch 6400, Training Loss 0.000093\n",
      "\t Validation Loss 0.000135\n",
      "Epoch 6500, Training Loss 0.000103\n",
      "\t Validation Loss 0.000134\n",
      "Epoch 6600, Training Loss 0.000092\n",
      "\t Validation Loss 0.000121\n",
      "Epoch 6700, Training Loss 0.000092\n",
      "\t Validation Loss 0.000123\n",
      "Epoch 6800, Training Loss 0.000095\n",
      "\t Validation Loss 0.000121\n",
      "Epoch 6900, Training Loss 0.000094\n",
      "\t Validation Loss 0.000127\n",
      "Epoch 7000, Training Loss 0.000095\n",
      "\t Validation Loss 0.000122\n",
      "Epoch 7100, Training Loss 0.000100\n",
      "\t Validation Loss 0.000133\n",
      "Epoch 7200, Training Loss 0.000091\n",
      "\t Validation Loss 0.000126\n",
      "Epoch 7300, Training Loss 0.000106\n",
      "\t Validation Loss 0.000165\n",
      "Epoch 7400, Training Loss 0.000093\n",
      "\t Validation Loss 0.000117\n",
      "Epoch 7500, Training Loss 0.000092\n",
      "\t Validation Loss 0.000129\n",
      "Epoch 7600, Training Loss 0.000103\n",
      "\t Validation Loss 0.000124\n",
      "Epoch 7700, Training Loss 0.000097\n",
      "\t Validation Loss 0.000112\n",
      "Epoch 7800, Training Loss 0.000091\n",
      "\t Validation Loss 0.000117\n",
      "Epoch 7900, Training Loss 0.000094\n",
      "\t Validation Loss 0.000123\n",
      "Epoch 8000, Training Loss 0.000091\n",
      "\t Validation Loss 0.000118\n"
     ]
    }
   ],
   "source": [
    "training_loop(n_epochs=8000, optimizer=optimizer,model=model,\n",
    "             loss_fn=nn.MSELoss(), train_loader=train_loader, test_loader=test_loader,scheduler=scheduler,device=device)"
   ]
  },
  {
   "cell_type": "markdown",
   "metadata": {},
   "source": [
    "正解と予測結果をプロットしてみましょう"
   ]
  },
  {
   "cell_type": "code",
   "execution_count": 17,
   "metadata": {},
   "outputs": [
    {
     "data": {
      "image/png": "[encoded data removed]",
      "text/plain": [
       "<Figure size 432x288 with 1 Axes>"
      ]
     },
     "metadata": {
      "needs_background": "light"
     },
     "output_type": "display_data"
    }
   ],
   "source": [
    "import matplotlib.pyplot as plt\n",
    "import matplotlib.lines as mlines\n",
    "model.eval()\n",
    "with torch.no_grad():\n",
    "    predict=torch.sum(model(X_test.to(device)),dim=1)/64.0\n",
    "    train=torch.sum(model(X_train.to(device)),dim=1)/64.0\n",
    "    plt.gca().set_aspect('equal')\n",
    "    plt.xlim((-6,-5.6))\n",
    "    plt.ylim((-6,-5.6))\n",
    "    \n",
    "    plt.scatter(y_train,train.to('cpu'),c='red',s=2,alpha=0.5,label='train')\n",
    "    plt.scatter(y_test,predict.to('cpu'),c='blue',s=2,alpha=0.5,label='test')\n",
    "    plt.legend()"
   ]
  },
  {
   "cell_type": "code",
   "execution_count": 26,
   "metadata": {},
   "outputs": [
    {
     "data": {
      "text/plain": [
       "0.010806686"
      ]
     },
     "execution_count": 26,
     "metadata": {},
     "output_type": "execute_result"
    }
   ],
   "source": [
    "diff=(y_test-predict.to('cpu').detach().numpy()).numpy()\n",
    "np.sqrt(np.mean(np.abs(diff)*np.abs(diff)))"
   ]
  },
  {
   "cell_type": "markdown",
   "metadata": {},
   "source": [
    "対称性関数のとり方を工夫することでだいぶ精度が向上していることがわかります"
   ]
  }
 ],
 "metadata": {
  "interpreter": {
   "hash": "cb7935f57bbdef563505bbe55a73b776f504e7646c87521f5e2f2142831702de"
  },
  "kernelspec": {
   "display_name": "Python 3.9.5 ('env_3.9')",
   "language": "python",
   "name": "python3"
  },
  "language_info": {
   "codemirror_mode": {
    "name": "ipython",
    "version": 3
   },
   "file_extension": ".py",
   "mimetype": "text/x-python",
   "name": "python",
   "nbconvert_exporter": "python",
   "pygments_lexer": "ipython3",
   "version": "3.9.5"
  },
  "orig_nbformat": 4
 },
 "nbformat": 4,
 "nbformat_minor": 2
}
