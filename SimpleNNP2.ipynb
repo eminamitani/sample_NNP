{
 "cells": [
  {
   "cell_type": "markdown",
   "metadata": {},
   "source": [
    "# ゼロから始める簡単NNP (対称性関数のチューニング)"
   ]
  },
  {
   "cell_type": "markdown",
   "metadata": {},
   "source": [
    "## NNPとは？？\n",
    "Neural Network Potentialの略です。原子構造の情報を受け取って、エネルギーの値を予測する、ニューラルネットワークベースの機械学習モデルです。第一原理計算での構造とエネルギーの関係を再現するように、第一原理計算結果を使って学習させる仕組みを使っています。\n",
    "\n",
    "この最も単純なケースを試してみましょう。今回扱うのは、結晶Siです。分子動力学法のトラジェクトリーを使って、様々な温度での熱ゆらぎが加わっていたり、密度が異なった状態での1250パターンの構造とエネルギーの情報を集めてあるので、それを学習データにします。"
   ]
  },
  {
   "cell_type": "markdown",
   "metadata": {},
   "source": [
    "## 対称性関数の計算結果のロード\n",
    "構造とエネルギーの関係を学ばせるにあたって、まず構造をニューラルネットワーク的に扱いやすいデータに変換する必要があります。\n",
    "その方法の一つが対称性関数です。ここでは、対称性関数のパラメータをある程度調整した場合の計算結果を使います。\n",
    "\n",
    "対称性関数の説明や計算は別のファイルにまとめているので、そちらを見てください。\n",
    "https://github.com/eminamitani/sample_NNP/blob/main/make_desc_large.ipynb\n",
    "\n",
    "今回は時間短縮のため保存しておいたデータを使います。"
   ]
  },
  {
   "cell_type": "code",
   "execution_count": 27,
   "metadata": {},
   "outputs": [],
   "source": [
    "import numpy as np\n",
    "desc=np.load('desc_large2.npy')\n",
    "label=np.load('label_large2.npy')"
   ]
  },
  {
   "cell_type": "code",
   "execution_count": 28,
   "metadata": {},
   "outputs": [
    {
     "data": {
      "text/plain": [
       "(1250, 64, 33)"
      ]
     },
     "execution_count": 28,
     "metadata": {},
     "output_type": "execute_result"
    }
   ],
   "source": [
    "desc.shape"
   ]
  },
  {
   "cell_type": "markdown",
   "metadata": {},
   "source": [
    "データがどんな形か確認してみましょう。descは計算された対称性関数の11の値（最初の値は、G0と表記されるシンプルな動径分布に対応します）を保持していて、labelは系の原子あたりの平均エネルギーの情報を持っています。(全エネルギーそのままだと値が大きすぎるので)"
   ]
  },
  {
   "cell_type": "code",
   "execution_count": 29,
   "metadata": {},
   "outputs": [
    {
     "data": {
      "text/plain": [
       "(array([8.2624397e+00, 6.5645013e+00, 6.8478737e+00, 7.0952611e+00,\n",
       "        7.4638300e+00, 7.6411366e+00, 7.6528153e+00, 7.5205598e+00,\n",
       "        7.1907077e+00, 3.7583420e+00, 4.1961546e+00, 4.6072350e+00,\n",
       "        5.3214240e+00, 5.8177748e+00, 5.9414434e+00, 5.8456669e+00,\n",
       "        7.1907077e+00, 8.3692503e+00, 6.6050043e+00, 4.6383796e+00,\n",
       "        1.2195593e+00, 3.1042571e+00, 1.3400111e+00, 4.2756554e-01,\n",
       "        4.9517145e-03, 3.4005523e-01, 2.7418879e-01, 2.0551518e-01,\n",
       "        6.0850848e-02, 1.3184330e-01, 6.5976851e-02, 2.5722256e-02,\n",
       "        2.1529508e-04], dtype=float32),\n",
       " -5.8122244)"
      ]
     },
     "execution_count": 29,
     "metadata": {},
     "output_type": "execute_result"
    }
   ],
   "source": [
    "desc[0,0,:], label[0]"
   ]
  },
  {
   "cell_type": "code",
   "execution_count": 30,
   "metadata": {},
   "outputs": [
    {
     "data": {
      "text/plain": [
       "(array([9.0224648e+00, 7.3113761e+00, 7.6017470e+00, 7.8504934e+00,\n",
       "        8.2046213e+00, 8.3454475e+00, 8.3313866e+00, 8.1351175e+00,\n",
       "        7.7287378e+00, 4.2912140e+00, 4.7507229e+00, 5.1840878e+00,\n",
       "        5.9365387e+00, 6.4277830e+00, 6.5186429e+00, 6.2900910e+00,\n",
       "        7.7287378e+00, 1.0702587e+01, 8.3495388e+00, 5.7685575e+00,\n",
       "        1.4719462e+00, 4.2066712e+00, 1.8536228e+00, 6.0944861e-01,\n",
       "        1.6249318e-02, 5.1270366e-01, 4.0338242e-01, 2.9438639e-01,\n",
       "        8.3372690e-02, 2.2587003e-01, 1.1654880e-01, 4.6248421e-02,\n",
       "        5.8183965e-04], dtype=float32),\n",
       " -5.812823)"
      ]
     },
     "execution_count": 30,
     "metadata": {},
     "output_type": "execute_result"
    }
   ],
   "source": [
    "desc[1,0,:], label[1]"
   ]
  },
  {
   "cell_type": "markdown",
   "metadata": {},
   "source": [
    "対称性関数の値にもそれなりにばらつきがありそうです。"
   ]
  },
  {
   "cell_type": "markdown",
   "metadata": {},
   "source": [
    "ニューラルネットワークの実装では配列の形を勘違いしてミスをすることが多いので確認しておきます"
   ]
  },
  {
   "cell_type": "code",
   "execution_count": 31,
   "metadata": {},
   "outputs": [
    {
     "data": {
      "text/plain": [
       "((1250, 64, 33), (1250,))"
      ]
     },
     "execution_count": 31,
     "metadata": {},
     "output_type": "execute_result"
    }
   ],
   "source": [
    "desc.shape, label.shape"
   ]
  },
  {
   "cell_type": "markdown",
   "metadata": {},
   "source": [
    "本当はデータを正規化したほうが良いのですが、ひとまず単純に処理してみましょう"
   ]
  },
  {
   "cell_type": "markdown",
   "metadata": {},
   "source": [
    " ## ニューラルネットワークの定義\n",
    " 今回は、ニューラルネットワークというと真っ先にイメージされる多層パーセプトロンを使います。\n",
    "\n",
    " このモデルでは、11の対称性関数の値を受け取って、それをノード数20の隠れ層に渡し、最終的に一つの出力を得る形になっています。\n",
    " この出力は「原子ひとつあたりのエネルギー」に相当すると考えます。原子ひとつあたりのエネルギーがきちんと定義できるのかはさておき、それらを足し上げると、系の全エネルギーになるようにネットワーク中の重みやバイアスを最適化していきます。"
   ]
  },
  {
   "cell_type": "code",
   "execution_count": 32,
   "metadata": {},
   "outputs": [],
   "source": [
    "import torch.nn as nn\n",
    "import torch\n",
    "import torch.optim as optim\n",
    "\n",
    "class Net(nn.Module):\n",
    "    #n_sf : number of symmetry function\n",
    "    #two-hidden layer\n",
    "    #output is energy per atom\n",
    "    def __init__(self,n_sf,n_hidden):\n",
    "        super(Net,self).__init__()\n",
    "        self.fc1 = nn.Linear(n_sf, n_hidden)\n",
    "        self.a1  = nn.Tanh()\n",
    "        self.fc2 = nn.Linear(n_hidden, n_hidden)\n",
    "        self.a2  = nn.Tanh()\n",
    "        self.fc3 = nn.Linear(n_hidden,1)\n",
    "\n",
    "        #for debug backprop\n",
    "        self.fc1mask=[]\n",
    "        self.fc2mask=[]\n",
    "\n",
    "        #He initialization\n",
    "        nn.init.kaiming_normal_(self.fc1.weight)\n",
    "        nn.init.kaiming_normal_(self.fc2.weight)\n",
    "        nn.init.kaiming_normal_(self.fc3.weight)\n",
    "        self.results={}\n",
    "\n",
    "        self.layers=[self.fc1, self.a1, self.fc2, self.a2, self.fc3]\n",
    "\n",
    "    #relu actination function\n",
    "    #two hidden layer\n",
    "    #evaluate eneergy & derivative in forward run\n",
    "    def forward(self,x):\n",
    "\n",
    "        for layer in self.layers:\n",
    "            x=layer(x)\n",
    "\n",
    "        return x"
   ]
  },
  {
   "cell_type": "markdown",
   "metadata": {},
   "source": [
    "## 学習データとテストデータの分割\n",
    "機械学習では過学習（使ったデータにはよく合うが、それ以外のデータにはうまく対応できない）がつきものなので、汎化性能を調べるために、学習データとテストデータの分割を行います。今回は8割を学習データ、2割をテストデータにします。"
   ]
  },
  {
   "cell_type": "code",
   "execution_count": 33,
   "metadata": {},
   "outputs": [],
   "source": [
    "from sklearn.model_selection import train_test_split\n",
    "X_train, X_test, y_train, y_test = train_test_split(desc, label, test_size=0.2)"
   ]
  },
  {
   "cell_type": "markdown",
   "metadata": {},
   "source": [
    "pytorchはテンソルを入力として受け取り、出力もテンソルにすることができます。上記の`Net`クラスで実装されているモデルはベクトルを受け取ることを前提にかかれていますが、それが積み上がってテンソルになった入力に対しても柔軟に処理することができます。イメージ的に分かりにくいので、実際にやってみましょう。"
   ]
  },
  {
   "cell_type": "code",
   "execution_count": 34,
   "metadata": {},
   "outputs": [
    {
     "data": {
      "text/plain": [
       "torch.Size([1000, 64, 1])"
      ]
     },
     "execution_count": 34,
     "metadata": {},
     "output_type": "execute_result"
    }
   ],
   "source": [
    "#データ処理の概要確認\n",
    "#テンソルとしてデータを一気に流し込み、原子数の次元で和を取る\n",
    "nacsf=33\n",
    "model=Net(n_sf=nacsf,n_hidden=100)\n",
    "test_out=model(torch.tensor(X_train))\n",
    "test_out.shape"
   ]
  },
  {
   "cell_type": "markdown",
   "metadata": {},
   "source": [
    "1000データがあって、それぞれに（64,1）の配列が格納されている形式になっています。この64というのは原子数で、実際の正解データと比較するのは、64原子分の総和をとった値です。それは以下のようにして計算できます。"
   ]
  },
  {
   "cell_type": "code",
   "execution_count": 35,
   "metadata": {},
   "outputs": [
    {
     "data": {
      "text/plain": [
       "torch.Size([1000, 1])"
      ]
     },
     "execution_count": 35,
     "metadata": {},
     "output_type": "execute_result"
    }
   ],
   "source": [
    "p_energy=torch.sum(test_out, dim=1)\n",
    "p_energy.shape\n"
   ]
  },
  {
   "cell_type": "code",
   "execution_count": 36,
   "metadata": {},
   "outputs": [],
   "source": [
    "device = torch.device('cuda' if torch.cuda.is_available() else 'cpu')\n",
    "model=model.to(device)"
   ]
  },
  {
   "cell_type": "markdown",
   "metadata": {},
   "source": [
    "## データローダーの定義\n",
    "効率よく学習させるためにはミニバッチ学習が欠かせません。というわけで、そのためのデータローダーを組みます"
   ]
  },
  {
   "cell_type": "markdown",
   "metadata": {},
   "source": [
    "torchのtensor型に変換します。y_train, y_testはモデルの出力と整合させるために、unsqueeze(1)で余分な次元をつけています"
   ]
  },
  {
   "cell_type": "code",
   "execution_count": 37,
   "metadata": {},
   "outputs": [],
   "source": [
    "X_train=torch.tensor(X_train)\n",
    "X_test=torch.tensor(X_test)\n",
    "y_train=torch.tensor(y_train).unsqueeze(1)\n",
    "y_test=torch.tensor(y_test).unsqueeze(1)"
   ]
  },
  {
   "cell_type": "code",
   "execution_count": 38,
   "metadata": {},
   "outputs": [],
   "source": [
    "#define dataset\n",
    "train_dset=[(data,label) for data, label in zip(X_train, y_train)]\n",
    "test_dset=[(data,label) for data, label in zip(X_test, y_test)]\n",
    "nbatch=100\n",
    "train_loader =torch.utils.data.DataLoader(train_dset, batch_size=nbatch, shuffle=True)\n",
    "test_loader=torch.utils.data.DataLoader(test_dset, batch_size=nbatch, shuffle=True)"
   ]
  },
  {
   "cell_type": "markdown",
   "metadata": {},
   "source": [
    "## 学習部分のコード"
   ]
  },
  {
   "cell_type": "markdown",
   "metadata": {},
   "source": [
    "ログ取得"
   ]
  },
  {
   "cell_type": "code",
   "execution_count": 39,
   "metadata": {},
   "outputs": [],
   "source": [
    "from torch.utils.tensorboard import SummaryWriter\n",
    "import os\n",
    "import datetime\n",
    "dir=os.path.join(\"./logs\", datetime.datetime.now().strftime('%Y-%m-%d %H:%M:%S'))\n",
    "writer = SummaryWriter(log_dir=dir)"
   ]
  },
  {
   "cell_type": "markdown",
   "metadata": {},
   "source": [
    "学習＆テスト結果のループ部分"
   ]
  },
  {
   "cell_type": "code",
   "execution_count": 40,
   "metadata": {},
   "outputs": [],
   "source": [
    "\n",
    "def training_loop(n_epochs, optimizer, model, loss_fn, train_loader, test_loader,scheduler,device):\n",
    "    for epoch in range(1, n_epochs+1):\n",
    "        loss_t=0.0\n",
    "        loss_v=0.0\n",
    "        for train, train_labels in train_loader:\n",
    "            train=train.to(device)\n",
    "            train_labels=train_labels.to(device)\n",
    "            tmp=model(train)\n",
    "            p_train=torch.sum(tmp, dim=1)/64.0\n",
    "\n",
    "            loss_train=loss_fn(p_train, train_labels)\n",
    "            optimizer.zero_grad()\n",
    "            loss_train.backward()\n",
    "            optimizer.step()\n",
    "            loss_t+=loss_train.item()\n",
    "        \n",
    "        scheduler.step()\n",
    "\n",
    "        #validation\n",
    "        with torch.no_grad():\n",
    "            for val, val_labels in test_loader:\n",
    "                val=val.to(device)\n",
    "                val_labels=val_labels.to(device)\n",
    "                p_val= torch.sum(model(val),dim=1)/64.0\n",
    "                loss_val=loss_fn(p_val, val_labels)\n",
    "                loss_v+=loss_val.item()\n",
    "        \n",
    "        writer.add_scalar(\"loss_train\", loss_t/len(train_loader), epoch)  \n",
    "        writer.add_scalar(\"loss_val\", loss_v/len(test_loader), epoch)  \n",
    "        \n",
    "        if epoch == 1 or epoch %100 ==0:\n",
    "            print('Epoch %d, Training Loss %f' %(epoch, loss_t/len(train_loader)))\n",
    "            print('\\t Validation Loss %f' %(loss_v/len(test_loader)))\n",
    "    \n",
    "    writer.close()\n",
    "    return "
   ]
  },
  {
   "cell_type": "markdown",
   "metadata": {},
   "source": [
    "パラメータの更新はAdamで行います"
   ]
  },
  {
   "cell_type": "code",
   "execution_count": 41,
   "metadata": {},
   "outputs": [],
   "source": [
    "optimizer=optim.Adam(model.parameters(), lr=0.001)\n",
    "from torch.optim.lr_scheduler import MultiStepLR\n",
    "scheduler = MultiStepLR(optimizer, milestones=[2000,4000,6000],gamma=0.5)"
   ]
  },
  {
   "cell_type": "code",
   "execution_count": 42,
   "metadata": {},
   "outputs": [
    {
     "name": "stdout",
     "output_type": "stream",
     "text": [
      "Epoch 1, Training Loss 14.783498\n",
      "\t Validation Loss 0.325282\n",
      "Epoch 100, Training Loss 0.003730\n",
      "\t Validation Loss 0.003495\n",
      "Epoch 200, Training Loss 0.003079\n",
      "\t Validation Loss 0.002942\n",
      "Epoch 300, Training Loss 0.001577\n",
      "\t Validation Loss 0.001572\n",
      "Epoch 400, Training Loss 0.000870\n",
      "\t Validation Loss 0.000332\n",
      "Epoch 500, Training Loss 0.000639\n",
      "\t Validation Loss 0.000268\n",
      "Epoch 600, Training Loss 0.000362\n",
      "\t Validation Loss 0.000588\n",
      "Epoch 700, Training Loss 0.000625\n",
      "\t Validation Loss 0.000921\n",
      "Epoch 800, Training Loss 0.001030\n",
      "\t Validation Loss 0.000998\n",
      "Epoch 900, Training Loss 0.000277\n",
      "\t Validation Loss 0.000235\n",
      "Epoch 1000, Training Loss 0.000287\n",
      "\t Validation Loss 0.000176\n",
      "Epoch 1100, Training Loss 0.000421\n",
      "\t Validation Loss 0.000196\n",
      "Epoch 1200, Training Loss 0.000357\n",
      "\t Validation Loss 0.000190\n",
      "Epoch 1300, Training Loss 0.000233\n",
      "\t Validation Loss 0.000185\n",
      "Epoch 1400, Training Loss 0.000631\n",
      "\t Validation Loss 0.000989\n",
      "Epoch 1500, Training Loss 0.000295\n",
      "\t Validation Loss 0.000204\n",
      "Epoch 1600, Training Loss 0.000420\n",
      "\t Validation Loss 0.000224\n",
      "Epoch 1700, Training Loss 0.000251\n",
      "\t Validation Loss 0.000151\n",
      "Epoch 1800, Training Loss 0.000346\n",
      "\t Validation Loss 0.000233\n",
      "Epoch 1900, Training Loss 0.000200\n",
      "\t Validation Loss 0.000114\n",
      "Epoch 2000, Training Loss 0.000195\n",
      "\t Validation Loss 0.000117\n",
      "Epoch 2100, Training Loss 0.000127\n",
      "\t Validation Loss 0.000133\n",
      "Epoch 2200, Training Loss 0.000134\n",
      "\t Validation Loss 0.000136\n",
      "Epoch 2300, Training Loss 0.000107\n",
      "\t Validation Loss 0.000089\n",
      "Epoch 2400, Training Loss 0.000122\n",
      "\t Validation Loss 0.000084\n",
      "Epoch 2500, Training Loss 0.000182\n",
      "\t Validation Loss 0.000298\n",
      "Epoch 2600, Training Loss 0.000122\n",
      "\t Validation Loss 0.000089\n",
      "Epoch 2700, Training Loss 0.000121\n",
      "\t Validation Loss 0.000105\n",
      "Epoch 2800, Training Loss 0.000154\n",
      "\t Validation Loss 0.000100\n",
      "Epoch 2900, Training Loss 0.000109\n",
      "\t Validation Loss 0.000103\n",
      "Epoch 3000, Training Loss 0.000100\n",
      "\t Validation Loss 0.000085\n",
      "Epoch 3100, Training Loss 0.000158\n",
      "\t Validation Loss 0.000149\n",
      "Epoch 3200, Training Loss 0.000096\n",
      "\t Validation Loss 0.000085\n",
      "Epoch 3300, Training Loss 0.000126\n",
      "\t Validation Loss 0.000102\n",
      "Epoch 3400, Training Loss 0.000121\n",
      "\t Validation Loss 0.000112\n",
      "Epoch 3500, Training Loss 0.000110\n",
      "\t Validation Loss 0.000154\n",
      "Epoch 3600, Training Loss 0.000120\n",
      "\t Validation Loss 0.000096\n",
      "Epoch 3700, Training Loss 0.000099\n",
      "\t Validation Loss 0.000085\n",
      "Epoch 3800, Training Loss 0.000111\n",
      "\t Validation Loss 0.000095\n",
      "Epoch 3900, Training Loss 0.000106\n",
      "\t Validation Loss 0.000089\n",
      "Epoch 4000, Training Loss 0.000126\n",
      "\t Validation Loss 0.000088\n",
      "Epoch 4100, Training Loss 0.000098\n",
      "\t Validation Loss 0.000090\n",
      "Epoch 4200, Training Loss 0.000102\n",
      "\t Validation Loss 0.000124\n",
      "Epoch 4300, Training Loss 0.000096\n",
      "\t Validation Loss 0.000100\n",
      "Epoch 4400, Training Loss 0.000098\n",
      "\t Validation Loss 0.000090\n",
      "Epoch 4500, Training Loss 0.000095\n",
      "\t Validation Loss 0.000146\n",
      "Epoch 4600, Training Loss 0.000109\n",
      "\t Validation Loss 0.000128\n",
      "Epoch 4700, Training Loss 0.000089\n",
      "\t Validation Loss 0.000088\n",
      "Epoch 4800, Training Loss 0.000107\n",
      "\t Validation Loss 0.000141\n",
      "Epoch 4900, Training Loss 0.000109\n",
      "\t Validation Loss 0.000087\n",
      "Epoch 5000, Training Loss 0.000100\n",
      "\t Validation Loss 0.000101\n",
      "Epoch 5100, Training Loss 0.000097\n",
      "\t Validation Loss 0.000094\n",
      "Epoch 5200, Training Loss 0.000115\n",
      "\t Validation Loss 0.000085\n",
      "Epoch 5300, Training Loss 0.000111\n",
      "\t Validation Loss 0.000091\n",
      "Epoch 5400, Training Loss 0.000089\n",
      "\t Validation Loss 0.000085\n",
      "Epoch 5500, Training Loss 0.000088\n",
      "\t Validation Loss 0.000125\n",
      "Epoch 5600, Training Loss 0.000096\n",
      "\t Validation Loss 0.000089\n",
      "Epoch 5700, Training Loss 0.000097\n",
      "\t Validation Loss 0.000094\n",
      "Epoch 5800, Training Loss 0.000090\n",
      "\t Validation Loss 0.000086\n",
      "Epoch 5900, Training Loss 0.000132\n",
      "\t Validation Loss 0.000105\n",
      "Epoch 6000, Training Loss 0.000105\n",
      "\t Validation Loss 0.000084\n",
      "Epoch 6100, Training Loss 0.000094\n",
      "\t Validation Loss 0.000076\n",
      "Epoch 6200, Training Loss 0.000087\n",
      "\t Validation Loss 0.000079\n",
      "Epoch 6300, Training Loss 0.000087\n",
      "\t Validation Loss 0.000082\n",
      "Epoch 6400, Training Loss 0.000081\n",
      "\t Validation Loss 0.000075\n",
      "Epoch 6500, Training Loss 0.000106\n",
      "\t Validation Loss 0.000101\n",
      "Epoch 6600, Training Loss 0.000096\n",
      "\t Validation Loss 0.000132\n",
      "Epoch 6700, Training Loss 0.000084\n",
      "\t Validation Loss 0.000132\n",
      "Epoch 6800, Training Loss 0.000082\n",
      "\t Validation Loss 0.000074\n",
      "Epoch 6900, Training Loss 0.000097\n",
      "\t Validation Loss 0.000113\n",
      "Epoch 7000, Training Loss 0.000097\n",
      "\t Validation Loss 0.000128\n",
      "Epoch 7100, Training Loss 0.000096\n",
      "\t Validation Loss 0.000092\n",
      "Epoch 7200, Training Loss 0.000077\n",
      "\t Validation Loss 0.000071\n",
      "Epoch 7300, Training Loss 0.000073\n",
      "\t Validation Loss 0.000098\n",
      "Epoch 7400, Training Loss 0.000078\n",
      "\t Validation Loss 0.000075\n",
      "Epoch 7500, Training Loss 0.000079\n",
      "\t Validation Loss 0.000066\n",
      "Epoch 7600, Training Loss 0.000081\n",
      "\t Validation Loss 0.000082\n",
      "Epoch 7700, Training Loss 0.000079\n",
      "\t Validation Loss 0.000080\n",
      "Epoch 7800, Training Loss 0.000075\n",
      "\t Validation Loss 0.000066\n",
      "Epoch 7900, Training Loss 0.000080\n",
      "\t Validation Loss 0.000103\n",
      "Epoch 8000, Training Loss 0.000072\n",
      "\t Validation Loss 0.000079\n"
     ]
    }
   ],
   "source": [
    "training_loop(n_epochs=8000, optimizer=optimizer,model=model,\n",
    "             loss_fn=nn.MSELoss(), train_loader=train_loader, test_loader=test_loader,scheduler=scheduler,device=device)"
   ]
  },
  {
   "cell_type": "markdown",
   "metadata": {},
   "source": [
    "正解と予測結果をプロットしてみましょう"
   ]
  },
  {
   "cell_type": "code",
   "execution_count": 45,
   "metadata": {},
   "outputs": [
    {
     "data": {
      "image/png": "[encoded data removed]",
      "text/plain": [
       "<Figure size 432x288 with 1 Axes>"
      ]
     },
     "metadata": {
      "needs_background": "light"
     },
     "output_type": "display_data"
    }
   ],
   "source": [
    "import matplotlib.pyplot as plt\n",
    "import matplotlib.lines as mlines\n",
    "model.eval()\n",
    "with torch.no_grad():\n",
    "    predict=torch.sum(model(X_test.to(device)),dim=1)/64.0\n",
    "    train=torch.sum(model(X_train.to(device)),dim=1)/64.0\n",
    "    plt.gca().set_aspect('equal')\n",
    "    plt.xlim((-6,-5.6))\n",
    "    plt.ylim((-6,-5.6))\n",
    "    \n",
    "    plt.scatter(y_train,train.to('cpu'),c='red',s=2,alpha=0.5,label='train')\n",
    "    plt.scatter(y_test,predict.to('cpu'),c='blue',s=2,alpha=0.5,label='test')\n",
    "    plt.legend()"
   ]
  },
  {
   "cell_type": "code",
   "execution_count": 44,
   "metadata": {},
   "outputs": [
    {
     "data": {
      "text/plain": [
       "0.008790469"
      ]
     },
     "execution_count": 44,
     "metadata": {},
     "output_type": "execute_result"
    }
   ],
   "source": [
    "diff=(y_test-predict.to('cpu').detach().numpy()).numpy()\n",
    "np.sqrt(np.mean(np.abs(diff)*np.abs(diff)))"
   ]
  },
  {
   "cell_type": "markdown",
   "metadata": {},
   "source": [
    "対称性関数のとり方を工夫することでだいぶ精度が向上していることがわかります"
   ]
  }
 ],
 "metadata": {
  "interpreter": {
   "hash": "cb7935f57bbdef563505bbe55a73b776f504e7646c87521f5e2f2142831702de"
  },
  "kernelspec": {
   "display_name": "Python 3.9.5 ('env_3.9')",
   "language": "python",
   "name": "python3"
  },
  "language_info": {
   "codemirror_mode": {
    "name": "ipython",
    "version": 3
   },
   "file_extension": ".py",
   "mimetype": "text/x-python",
   "name": "python",
   "nbconvert_exporter": "python",
   "pygments_lexer": "ipython3",
   "version": "3.9.5"
  },
  "orig_nbformat": 4
 },
 "nbformat": 4,
 "nbformat_minor": 2
}
